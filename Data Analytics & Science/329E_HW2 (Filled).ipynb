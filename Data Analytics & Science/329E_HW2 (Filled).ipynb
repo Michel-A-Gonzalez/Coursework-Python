{
  "cells": [
    {
      "cell_type": "markdown",
      "metadata": {
        "id": "73hjkXVznsab"
      },
      "source": [
        "# Homework 2\n",
        "\n",
        "## Pair Programming Group Number: 8\n",
        "## Members of Team: Michel Gonzalez\n",
        "\n",
        "#### Practicing using numpy to do math, and more visualizations\n",
        "\n",
        "More fun using the numerical package, numpy, a touch of pandas, and exercising your math vocabulary. "
      ]
    },
    {
      "cell_type": "code",
      "execution_count": 1,
      "metadata": {
        "colab": {
          "base_uri": "https://localhost:8080/",
          "height": 391
        },
        "id": "nzXsUemSnsad",
        "outputId": "8403389b-6fa9-4a3b-e3ea-3db20245353b"
      },
      "outputs": [
        {
          "output_type": "execute_result",
          "data": {
            "text/html": [
              "\n",
              "  <div id=\"df-4f8cd038-0c4c-49b8-a1f9-faf3454e4db4\">\n",
              "    <div class=\"colab-df-container\">\n",
              "      <div>\n",
              "<style scoped>\n",
              "    .dataframe tbody tr th:only-of-type {\n",
              "        vertical-align: middle;\n",
              "    }\n",
              "\n",
              "    .dataframe tbody tr th {\n",
              "        vertical-align: top;\n",
              "    }\n",
              "\n",
              "    .dataframe thead th {\n",
              "        text-align: right;\n",
              "    }\n",
              "</style>\n",
              "<table border=\"1\" class=\"dataframe\">\n",
              "  <thead>\n",
              "    <tr style=\"text-align: right;\">\n",
              "      <th></th>\n",
              "      <th>Suburb</th>\n",
              "      <th>Address</th>\n",
              "      <th>Rooms</th>\n",
              "      <th>Type</th>\n",
              "      <th>Price</th>\n",
              "      <th>Method</th>\n",
              "      <th>SellerG</th>\n",
              "      <th>Date</th>\n",
              "      <th>Distance</th>\n",
              "      <th>Postcode</th>\n",
              "      <th>Bedroom2</th>\n",
              "      <th>Bathroom</th>\n",
              "      <th>Car</th>\n",
              "      <th>Landsize</th>\n",
              "      <th>BuildingArea</th>\n",
              "      <th>YearBuilt</th>\n",
              "      <th>CouncilArea</th>\n",
              "      <th>Lattitude</th>\n",
              "      <th>Longtitude</th>\n",
              "      <th>Regionname</th>\n",
              "      <th>Propertycount</th>\n",
              "    </tr>\n",
              "  </thead>\n",
              "  <tbody>\n",
              "    <tr>\n",
              "      <th>0</th>\n",
              "      <td>Abbotsford</td>\n",
              "      <td>85 Turner St</td>\n",
              "      <td>2</td>\n",
              "      <td>h</td>\n",
              "      <td>1480000.0</td>\n",
              "      <td>S</td>\n",
              "      <td>Biggin</td>\n",
              "      <td>3/12/2016</td>\n",
              "      <td>2.5</td>\n",
              "      <td>3067.0</td>\n",
              "      <td>2.0</td>\n",
              "      <td>1.0</td>\n",
              "      <td>1.0</td>\n",
              "      <td>202.0</td>\n",
              "      <td>NaN</td>\n",
              "      <td>NaN</td>\n",
              "      <td>Yarra</td>\n",
              "      <td>-37.7996</td>\n",
              "      <td>144.9984</td>\n",
              "      <td>Northern Metropolitan</td>\n",
              "      <td>4019.0</td>\n",
              "    </tr>\n",
              "    <tr>\n",
              "      <th>1</th>\n",
              "      <td>Abbotsford</td>\n",
              "      <td>25 Bloomburg St</td>\n",
              "      <td>2</td>\n",
              "      <td>h</td>\n",
              "      <td>1035000.0</td>\n",
              "      <td>S</td>\n",
              "      <td>Biggin</td>\n",
              "      <td>4/02/2016</td>\n",
              "      <td>2.5</td>\n",
              "      <td>3067.0</td>\n",
              "      <td>2.0</td>\n",
              "      <td>1.0</td>\n",
              "      <td>0.0</td>\n",
              "      <td>156.0</td>\n",
              "      <td>79.0</td>\n",
              "      <td>1900.0</td>\n",
              "      <td>Yarra</td>\n",
              "      <td>-37.8079</td>\n",
              "      <td>144.9934</td>\n",
              "      <td>Northern Metropolitan</td>\n",
              "      <td>4019.0</td>\n",
              "    </tr>\n",
              "    <tr>\n",
              "      <th>2</th>\n",
              "      <td>Abbotsford</td>\n",
              "      <td>5 Charles St</td>\n",
              "      <td>3</td>\n",
              "      <td>h</td>\n",
              "      <td>1465000.0</td>\n",
              "      <td>SP</td>\n",
              "      <td>Biggin</td>\n",
              "      <td>4/03/2017</td>\n",
              "      <td>2.5</td>\n",
              "      <td>3067.0</td>\n",
              "      <td>3.0</td>\n",
              "      <td>2.0</td>\n",
              "      <td>0.0</td>\n",
              "      <td>134.0</td>\n",
              "      <td>150.0</td>\n",
              "      <td>1900.0</td>\n",
              "      <td>Yarra</td>\n",
              "      <td>-37.8093</td>\n",
              "      <td>144.9944</td>\n",
              "      <td>Northern Metropolitan</td>\n",
              "      <td>4019.0</td>\n",
              "    </tr>\n",
              "    <tr>\n",
              "      <th>3</th>\n",
              "      <td>Abbotsford</td>\n",
              "      <td>40 Federation La</td>\n",
              "      <td>3</td>\n",
              "      <td>h</td>\n",
              "      <td>850000.0</td>\n",
              "      <td>PI</td>\n",
              "      <td>Biggin</td>\n",
              "      <td>4/03/2017</td>\n",
              "      <td>2.5</td>\n",
              "      <td>3067.0</td>\n",
              "      <td>3.0</td>\n",
              "      <td>2.0</td>\n",
              "      <td>1.0</td>\n",
              "      <td>94.0</td>\n",
              "      <td>NaN</td>\n",
              "      <td>NaN</td>\n",
              "      <td>Yarra</td>\n",
              "      <td>-37.7969</td>\n",
              "      <td>144.9969</td>\n",
              "      <td>Northern Metropolitan</td>\n",
              "      <td>4019.0</td>\n",
              "    </tr>\n",
              "    <tr>\n",
              "      <th>4</th>\n",
              "      <td>Abbotsford</td>\n",
              "      <td>55a Park St</td>\n",
              "      <td>4</td>\n",
              "      <td>h</td>\n",
              "      <td>1600000.0</td>\n",
              "      <td>VB</td>\n",
              "      <td>Nelson</td>\n",
              "      <td>4/06/2016</td>\n",
              "      <td>2.5</td>\n",
              "      <td>3067.0</td>\n",
              "      <td>3.0</td>\n",
              "      <td>1.0</td>\n",
              "      <td>2.0</td>\n",
              "      <td>120.0</td>\n",
              "      <td>142.0</td>\n",
              "      <td>2014.0</td>\n",
              "      <td>Yarra</td>\n",
              "      <td>-37.8072</td>\n",
              "      <td>144.9941</td>\n",
              "      <td>Northern Metropolitan</td>\n",
              "      <td>4019.0</td>\n",
              "    </tr>\n",
              "  </tbody>\n",
              "</table>\n",
              "</div>\n",
              "      <button class=\"colab-df-convert\" onclick=\"convertToInteractive('df-4f8cd038-0c4c-49b8-a1f9-faf3454e4db4')\"\n",
              "              title=\"Convert this dataframe to an interactive table.\"\n",
              "              style=\"display:none;\">\n",
              "        \n",
              "  <svg xmlns=\"http://www.w3.org/2000/svg\" height=\"24px\"viewBox=\"0 0 24 24\"\n",
              "       width=\"24px\">\n",
              "    <path d=\"M0 0h24v24H0V0z\" fill=\"none\"/>\n",
              "    <path d=\"M18.56 5.44l.94 2.06.94-2.06 2.06-.94-2.06-.94-.94-2.06-.94 2.06-2.06.94zm-11 1L8.5 8.5l.94-2.06 2.06-.94-2.06-.94L8.5 2.5l-.94 2.06-2.06.94zm10 10l.94 2.06.94-2.06 2.06-.94-2.06-.94-.94-2.06-.94 2.06-2.06.94z\"/><path d=\"M17.41 7.96l-1.37-1.37c-.4-.4-.92-.59-1.43-.59-.52 0-1.04.2-1.43.59L10.3 9.45l-7.72 7.72c-.78.78-.78 2.05 0 2.83L4 21.41c.39.39.9.59 1.41.59.51 0 1.02-.2 1.41-.59l7.78-7.78 2.81-2.81c.8-.78.8-2.07 0-2.86zM5.41 20L4 18.59l7.72-7.72 1.47 1.35L5.41 20z\"/>\n",
              "  </svg>\n",
              "      </button>\n",
              "      \n",
              "  <style>\n",
              "    .colab-df-container {\n",
              "      display:flex;\n",
              "      flex-wrap:wrap;\n",
              "      gap: 12px;\n",
              "    }\n",
              "\n",
              "    .colab-df-convert {\n",
              "      background-color: #E8F0FE;\n",
              "      border: none;\n",
              "      border-radius: 50%;\n",
              "      cursor: pointer;\n",
              "      display: none;\n",
              "      fill: #1967D2;\n",
              "      height: 32px;\n",
              "      padding: 0 0 0 0;\n",
              "      width: 32px;\n",
              "    }\n",
              "\n",
              "    .colab-df-convert:hover {\n",
              "      background-color: #E2EBFA;\n",
              "      box-shadow: 0px 1px 2px rgba(60, 64, 67, 0.3), 0px 1px 3px 1px rgba(60, 64, 67, 0.15);\n",
              "      fill: #174EA6;\n",
              "    }\n",
              "\n",
              "    [theme=dark] .colab-df-convert {\n",
              "      background-color: #3B4455;\n",
              "      fill: #D2E3FC;\n",
              "    }\n",
              "\n",
              "    [theme=dark] .colab-df-convert:hover {\n",
              "      background-color: #434B5C;\n",
              "      box-shadow: 0px 1px 3px 1px rgba(0, 0, 0, 0.15);\n",
              "      filter: drop-shadow(0px 1px 2px rgba(0, 0, 0, 0.3));\n",
              "      fill: #FFFFFF;\n",
              "    }\n",
              "  </style>\n",
              "\n",
              "      <script>\n",
              "        const buttonEl =\n",
              "          document.querySelector('#df-4f8cd038-0c4c-49b8-a1f9-faf3454e4db4 button.colab-df-convert');\n",
              "        buttonEl.style.display =\n",
              "          google.colab.kernel.accessAllowed ? 'block' : 'none';\n",
              "\n",
              "        async function convertToInteractive(key) {\n",
              "          const element = document.querySelector('#df-4f8cd038-0c4c-49b8-a1f9-faf3454e4db4');\n",
              "          const dataTable =\n",
              "            await google.colab.kernel.invokeFunction('convertToInteractive',\n",
              "                                                     [key], {});\n",
              "          if (!dataTable) return;\n",
              "\n",
              "          const docLinkHtml = 'Like what you see? Visit the ' +\n",
              "            '<a target=\"_blank\" href=https://colab.research.google.com/notebooks/data_table.ipynb>data table notebook</a>'\n",
              "            + ' to learn more about interactive tables.';\n",
              "          element.innerHTML = '';\n",
              "          dataTable['output_type'] = 'display_data';\n",
              "          await google.colab.output.renderOutput(dataTable, element);\n",
              "          const docLink = document.createElement('div');\n",
              "          docLink.innerHTML = docLinkHtml;\n",
              "          element.appendChild(docLink);\n",
              "        }\n",
              "      </script>\n",
              "    </div>\n",
              "  </div>\n",
              "  "
            ],
            "text/plain": [
              "       Suburb           Address  ...             Regionname Propertycount\n",
              "0  Abbotsford      85 Turner St  ...  Northern Metropolitan        4019.0\n",
              "1  Abbotsford   25 Bloomburg St  ...  Northern Metropolitan        4019.0\n",
              "2  Abbotsford      5 Charles St  ...  Northern Metropolitan        4019.0\n",
              "3  Abbotsford  40 Federation La  ...  Northern Metropolitan        4019.0\n",
              "4  Abbotsford       55a Park St  ...  Northern Metropolitan        4019.0\n",
              "\n",
              "[5 rows x 21 columns]"
            ]
          },
          "metadata": {},
          "execution_count": 1
        }
      ],
      "source": [
        "# Your imports\n",
        "import pandas as pd\n",
        "import numpy as np\n",
        "import matplotlib.pyplot as plt\n",
        "\n",
        "url = 'https://gist.githubusercontent.com/yanyanzheng96/8fe13cc4b7c6a1391d4841018340a627/raw/f17479a580783a810cfe119186e63b5b28a87b4c/melb_data.csv'\n",
        "df = pd.read_csv(url)\n",
        "df.head()\n"
      ]
    },
    {
      "cell_type": "markdown",
      "metadata": {
        "id": "iqqRnbLrnsad"
      },
      "source": [
        "## Question 1 - Discrete PDF\n",
        "Create a vector of 1000 random numbers from a Normal distribution with mean 5 and standard deviation 10 and plot the discrete probability density function of that vector using a histogram.  You should use [numpy random normal](https://numpy.org/doc/stable/reference/random/generated/numpy.random.normal.html) to create the vector. Always label your axes and give your plots titles (this holds for all questions). "
      ]
    },
    {
      "cell_type": "code",
      "execution_count": 2,
      "metadata": {
        "colab": {
          "base_uri": "https://localhost:8080/",
          "height": 297
        },
        "id": "0lCfCpqrnsae",
        "outputId": "f651f179-7ec1-40fb-d909-896f0161849e"
      },
      "outputs": [
        {
          "output_type": "display_data",
          "data": {
            "image/png": "[encoded data removed]",
            "text/plain": [
              "<Figure size 432x288 with 1 Axes>"
            ]
          },
          "metadata": {
            "needs_background": "light"
          }
        }
      ],
      "source": [
        "# mean and standard deviation\n",
        "mu, sigma = 5, 10\n",
        "\n",
        "# Creares a vector of 1000 random numbers\n",
        "# from a normal distribution wiht mean of 5\n",
        "# and standard deviation 10\n",
        "s = np.random.normal(mu, sigma, 1000)\n",
        "\n",
        "# Plots the historgram of the series s based on the  normal distribution\n",
        "count, bins, ignored = plt.hist(s, 30, density=True, color = 'aqua', edgecolor = 'black')\n",
        "\n",
        "# plots the Gaussian distribution function with a mean of 5 and stnadard devation of 10\n",
        "plt.plot(bins, 1/(sigma * np.sqrt(2 * np.pi)) *\n",
        "               np.exp( - (bins - mu)**2 / (2 * sigma**2) ),\n",
        "         linewidth=2, color='g')\n",
        "\n",
        "plt.xlabel('Random Numbers')\n",
        "\n",
        "plt.ylabel('Frequency')\n",
        "\n",
        "plt.title('Historgram of a Normal Distribution With $\\mu = 5$ & $\\sigma = 10$')\n",
        "\n",
        "plt.show()"
      ]
    },
    {
      "cell_type": "markdown",
      "metadata": {
        "id": "DrsLsUg_nsae"
      },
      "source": [
        "## Question 2 - Discrete CDF\n",
        "\n",
        "Create a discrete cumulative density function plot using the same vector as the last question using a line graph.\n",
        "Annotate the point, $x$, where 80% of the data < $x$ and 20% of the data is greater than $x$.  You can use the matplotlib pyplot function [plot](https://matplotlib.org/3.3.3/api/_as_gen/matplotlib.pyplot.plot.html) to draw the line, and to draw a star at the point $x$.  Use the [legend](https://matplotlib.org/3.3.3/api/_as_gen/matplotlib.pyplot.legend.html) function to annotate the graph. "
      ]
    },
    {
      "cell_type": "code",
      "execution_count": 3,
      "metadata": {
        "colab": {
          "base_uri": "https://localhost:8080/",
          "height": 312
        },
        "id": "3BhaA6y3nsae",
        "outputId": "fa4742b9-6347-439e-bed5-4515071a0f29"
      },
      "outputs": [
        {
          "output_type": "execute_result",
          "data": {
            "text/plain": [
              "Text(0.5, 1.0, 'Discrete Cumulative Denisty Fucntion')"
            ]
          },
          "metadata": {},
          "execution_count": 3
        },
        {
          "output_type": "display_data",
          "data": {
            "image/png": "[encoded data removed]",
            "text/plain": [
              "<Figure size 432x288 with 1 Axes>"
            ]
          },
          "metadata": {
            "needs_background": "light"
          }
        }
      ],
      "source": [
        "# Creates an empty list to hold the cumulative density values\n",
        "density = []\n",
        "\n",
        "# sorts the random numbers array and gets the length\n",
        "s.sort()\n",
        "\n",
        "length = len(s)\n",
        "\n",
        "# creates and appends the cumulative values\n",
        "# for the density array\n",
        "sum = 0\n",
        "\n",
        "for i in range(0, length):\n",
        "\n",
        "  sum += 1/length\n",
        "\n",
        "  density.append(sum * 100)\n",
        "\n",
        "# finds the point x (density[i]) where 80% of the data is below x\n",
        "i = 0\n",
        "\n",
        "while(density[i] < 80):\n",
        "\n",
        "  i += 1\n",
        "\n",
        "# plots the denisty function as a fucntion of the sorted array s\n",
        "\n",
        "plt.plot(s, density)\n",
        "\n",
        "# plots the point x for the 80th percentile\n",
        "\n",
        "plt.plot(s[i], density[i], '*', color = 'black', label = 'x = ' + str(format(s[i], '.2f')))\n",
        "\n",
        "plt.legend()\n",
        "\n",
        "plt.xlabel('Random Numbers')\n",
        "\n",
        "plt.ylabel('Percentages')\n",
        "\n",
        "plt.title('Discrete Cumulative Denisty Fucntion')\n",
        "\n",
        "\n"
      ]
    },
    {
      "cell_type": "markdown",
      "metadata": {
        "id": "uG-sjt5gnsae"
      },
      "source": [
        "## Question 3 - Univariate Analysis\n",
        "\n",
        "Load in the data from melb_data.csv into a pandas DataFrame.  Create a box and whisker graph comparing the prices in the suburbs:\n",
        "  - Reservoir         \n",
        "  - Richmond          \n",
        "  - Bentleigh East\n",
        "  \n",
        "You should use the [boxplot](https://pandas.pydata.org/pandas-docs/stable/reference/api/pandas.DataFrame.boxplot.html) function, with the parameter `by`. "
      ]
    },
    {
      "cell_type": "code",
      "execution_count": 4,
      "metadata": {
        "id": "SjDSJ5COnsae",
        "colab": {
          "base_uri": "https://localhost:8080/",
          "height": 373
        },
        "outputId": "cec9967c-8f90-4ba4-db6b-cb5038cfc0cb"
      },
      "outputs": [
        {
          "output_type": "stream",
          "name": "stderr",
          "text": [
            "/usr/local/lib/python3.7/dist-packages/numpy/core/_asarray.py:83: VisibleDeprecationWarning: Creating an ndarray from ragged nested sequences (which is a list-or-tuple of lists-or-tuples-or ndarrays with different lengths or shapes) is deprecated. If you meant to do this, you must specify 'dtype=object' when creating the ndarray\n",
            "  return array(a, dtype, copy=False, order=order)\n"
          ]
        },
        {
          "output_type": "execute_result",
          "data": {
            "text/plain": [
              "Text(0.5, 1.0, '')"
            ]
          },
          "metadata": {},
          "execution_count": 4
        },
        {
          "output_type": "display_data",
          "data": {
            "image/png": "[encoded data removed]",
            "text/plain": [
              "<Figure size 432x288 with 1 Axes>"
            ]
          },
          "metadata": {
            "needs_background": "light"
          }
        }
      ],
      "source": [
        "# Creates a new data frame with only the suburbs and prices\n",
        "df_subs_price = df[['Suburb', 'Price']]\n",
        "\n",
        "# Cleans data from all NaN submissions \n",
        "df_subs_price_noNA = df_subs_price[df_subs_price['Price'].notna()]\n",
        "\n",
        "# Creates a new data frame with onyl the specified suburbs with their prices\n",
        "df_subs_price_spec = df_subs_price_noNA[(df_subs_price_noNA['Suburb'] == 'Richmond') | (df_subs_price_noNA['Suburb'] == 'Reservoir') | (df_subs_price_noNA['Suburb'] == 'Bentleigh East')]\n",
        "\n",
        "# Plots the boxplot of the prices based on the suburb \n",
        "df_subs_price_spec.boxplot(by='Suburb')\n",
        "\n",
        "plt.xlabel('Suburbs')\n",
        "\n",
        "plt.ylabel('Price')\n",
        "\n",
        "# For some reason the title was auto generated to be 'price'\n",
        "# and its own title that is on the plot\n",
        "# not sure how to suppress the other title but\n",
        "# I was able to get rid of the 'price' title and\n",
        "# leave the other\n",
        "plt.title('')"
      ]
    },
    {
      "cell_type": "markdown",
      "metadata": {
        "id": "uSdrj5sgnsaf"
      },
      "source": [
        "## Question 4 - Rotation with Matrices\n",
        "\n",
        "Consider the vectors:\n",
        "  - $\\alpha$ which begins at (0,0) and ends at (1,1)\n",
        "  - $\\beta$ which begins at (1,1) and ends at (0,1)\n",
        "  \n",
        "Draw $\\alpha$ and $\\beta$ using a line graph using a different color for each vector.\n",
        "\n",
        "Now, using matrix multiplication rotate the vectors 45 degrees (clockwise or counter-clockwise, you choose!) and draw the result.  You must use numpy's [matmul](https://numpy.org/doc/stable/reference/generated/numpy.matmul.html) to accomplish the rotation. Numpy also has functions for `sin` and `cos`.  You should also get [pi](https://numpy.org/doc/stable/reference/constants.html?highlight=pi#numpy.pi) from the numpy package. "
      ]
    },
    {
      "cell_type": "code",
      "execution_count": 7,
      "metadata": {
        "id": "SdGWtoJensaf",
        "colab": {
          "base_uri": "https://localhost:8080/",
          "height": 295
        },
        "outputId": "e0db797a-80bb-4c4f-839a-abebf86e6f03"
      },
      "outputs": [
        {
          "output_type": "display_data",
          "data": {
            "image/png": "[encoded data removed]",
            "text/plain": [
              "<Figure size 432x288 with 1 Axes>"
            ]
          },
          "metadata": {
            "needs_background": "light"
          }
        }
      ],
      "source": [
        "# Creates vectors (2-D lits) from the coordinate points\n",
        "# the first list are the x coordinates and\n",
        "# the second list are the y coordinates\n",
        "\n",
        "a_vec = np.array([[0,1], \n",
        "                  [0,1]])\n",
        "\n",
        "b_vec = np.array([[1,0], \n",
        "                  [1,1]])\n",
        "\n",
        "# rotates both vectors counter clockwise using the\n",
        "# the rotation matrix\n",
        "#\n",
        "#  R =  |cos(t),-sin(t)|, where t is an angle in radians\n",
        "#       |sin(t), cos(t)|\n",
        "\n",
        "# creates the radian version of 45 degrees and\n",
        "# assignes the sin and cos values\n",
        "theta = np.pi/4\n",
        "\n",
        "c, s = np.cos(theta), np.sin(theta)\n",
        "\n",
        "R = np.array([[c, -s], [s, c]])\n",
        "\n",
        "a_rot = np.matmul(R, a_vec)\n",
        "\n",
        "b_rot = np.matmul(R, b_vec)\n",
        "\n",
        "plt.plot(a_vec[0], a_vec[1], color = 'red', label = r'$\\alpha$')\n",
        "\n",
        "plt.plot(b_vec[0], b_vec[1], color = 'blue', label = r'$\\beta$')\n",
        "\n",
        "plt.plot(a_rot[0], a_rot[1], '--', color = 'red', label = r'Rotated $\\alpha$')\n",
        "\n",
        "plt.plot(b_rot[0], b_rot[1], '--', color = 'blue', label = r'Rotated $\\beta$')\n",
        "\n",
        "plt.xlabel('x')\n",
        "\n",
        "plt.ylabel('y')\n",
        "\n",
        "plt.title('Rotating Vecctors')\n",
        "\n",
        "plt.grid()\n",
        "\n",
        "plt.legend()\n",
        "\n",
        "plt.show()"
      ]
    },
    {
      "cell_type": "markdown",
      "metadata": {
        "id": "Hq5QQiP8nsaf"
      },
      "source": [
        "## Question 5 - Solving Systems of Equations with Matrices\n",
        "\n",
        "Consider the following system of equations:\n",
        "  - $2x +  y + z = 5$\n",
        "  - $4x - 6y     = -2$\n",
        "  - $-2x + 7y + 2z = 9$\n",
        "  \n",
        "Convert the coefficients of the system of equations to a matrix, $A$, where the first column contains the $x$ coefficients, the second column contains the $y$ coefficients, and the third column contains the $z$ coefficients. \n",
        "Covert the values on the right hand side to a (3,1) vector, $b$, (make sure you keep all the numbers in order.  Now, solve for $(x,y,z)$ by inverting $A$ and multiplying by $b$, eg, $A^{-1} * b$. \n",
        "\n",
        "Use the numpy [linear algebra inverse function](https://numpy.org/doc/stable/reference/generated/numpy.linalg.inv.html) to find $A^{-1}$."
      ]
    },
    {
      "cell_type": "code",
      "execution_count": 6,
      "metadata": {
        "id": "ZJtInbrLnsaf",
        "colab": {
          "base_uri": "https://localhost:8080/"
        },
        "outputId": "a65fd447-f217-4a0f-cb72-2b5e80164478"
      },
      "outputs": [
        {
          "output_type": "stream",
          "name": "stdout",
          "text": [
            "The solutions to the system of equations: \n",
            " x = 1\n",
            " y = 1\n",
            " z = 2\n",
            "\n"
          ]
        }
      ],
      "source": [
        "# Creates the matrix A and vector b\n",
        "A = np.matrix([[2, 1, 1], \n",
        "              [4, -6, 0], \n",
        "              [-2, 7, 2]])\n",
        "\n",
        "b = np.array([[5],\n",
        "              [-2], \n",
        "              [9]])\n",
        "\n",
        "# Finds the inverse of matrix A\n",
        "A_inv = np.linalg.inv(A)\n",
        "# Solves for the solution vector X\n",
        "# X = A_inv * b\n",
        "X = np.matmul(A_inv, b)\n",
        "\n",
        "print('The solution to the system of equations: \\n x = ' + str(int(X[0])) + '\\n y = ' + str(int(X[1])) + '\\n z = ' + str(int(X[2])) + '\\n')"
      ]
    },
    {
      "cell_type": "code",
      "source": [
        ""
      ],
      "metadata": {
        "id": "zWmPH3Rgh7gi"
      },
      "execution_count": 6,
      "outputs": []
    }
  ],
  "metadata": {
    "colab": {
      "collapsed_sections": [],
      "name": "329e_HW2.ipynb",
      "provenance": []
    },
    "kernelspec": {
      "display_name": "Python 3",
      "language": "python",
      "name": "python3"
    },
    "language_info": {
      "codemirror_mode": {
        "name": "ipython",
        "version": 3
      },
      "file_extension": ".py",
      "mimetype": "text/x-python",
      "name": "python",
      "nbconvert_exporter": "python",
      "pygments_lexer": "ipython3",
      "version": "3.8.8"
    }
  },
  "nbformat": 4,
  "nbformat_minor": 0
}