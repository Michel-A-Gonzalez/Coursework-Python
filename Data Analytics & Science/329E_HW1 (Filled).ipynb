{
  "cells": [
    {
      "cell_type": "markdown",
      "metadata": {
        "id": "BoxpSMDOX1_y"
      },
      "source": [
        "# Homework 1\n",
        "\n",
        "## Pair Programming Group Number: 8\n",
        "## Members of Team: Michel Gonzalez\n",
        "\n",
        "\n",
        "### Data maniupuation and Visualization!\n",
        "\n",
        "In our first assignment you will practice manipuating and visualizing data from a real wold data set, Melbourne Australia home sales records. \n",
        "\n",
        "### The Data\n",
        "\n",
        "Was taken from a Kaggle competition, and came with the following descriptions:\n",
        "Content & Acknowledgements\n",
        "\n",
        "```\n",
        "This data was scraped from publicly available results posted every week from Domain.com.au, I've cleaned it as best I can, now it's up to you to make data analysis magic. The dataset includes Address, Type of Real estate, Suburb, Method of Selling, Rooms, Price, Real Estate Agent, Date of Sale and distance from C.B.D.\n",
        "\n",
        "….Now with extra data including including property size, land size and council area, you may need to change your code!\n",
        "\n",
        "Some Key Details\n",
        "Suburb: Suburb\n",
        "\n",
        "Address: Address\n",
        "\n",
        "Rooms: Number of rooms\n",
        "\n",
        "Price: Price in Australian dollars\n",
        "\n",
        "Method:\n",
        "S - property sold;\n",
        "SP - property sold prior;\n",
        "PI - property passed in;\n",
        "PN - sold prior not disclosed;\n",
        "SN - sold not disclosed;\n",
        "NB - no bid;\n",
        "VB - vendor bid;\n",
        "W - withdrawn prior to auction;\n",
        "SA - sold after auction;\n",
        "SS - sold after auction price not disclosed.\n",
        "N/A - price or highest bid not available.\n",
        "\n",
        "Type:\n",
        "br - bedroom(s);\n",
        "h - house,cottage,villa, semi,terrace;\n",
        "u - unit, duplex;\n",
        "t - townhouse;\n",
        "dev site - development site;\n",
        "o res - other residential.\n",
        "\n",
        "SellerG: Real Estate Agent\n",
        "\n",
        "Date: Date sold\n",
        "\n",
        "Distance: Distance from CBD in Kilometres\n",
        "\n",
        "Regionname: General Region (West, North West, North, North east …etc)\n",
        "\n",
        "Propertycount: Number of properties that exist in the suburb.\n",
        "\n",
        "Bedroom2 : Scraped # of Bedrooms (from different source)\n",
        "\n",
        "Bathroom: Number of Bathrooms\n",
        "\n",
        "Car: Number of carspots\n",
        "\n",
        "Landsize: Land Size in Metres\n",
        "\n",
        "BuildingArea: Building Size in Metres\n",
        "\n",
        "YearBuilt: Year the house was built\n",
        "\n",
        "CouncilArea: Governing council for the area\n",
        "\n",
        "Lattitude: Self explanitory\n",
        "\n",
        "Longtitude: Self explanitory\n",
        "```\n"
      ]
    },
    {
      "cell_type": "markdown",
      "metadata": {
        "id": "Xc3WoTIgX1_z"
      },
      "source": [
        "## Q1 - Loading Data\n",
        "Run the following code section to load dataset into a pandas DataFrame named `df`. If you need to look up other\n",
        "syntax on how to read csv files you can find it [here](https://pandas.pydata.org/docs/reference/api/pandas.read_csv.html)."
      ]
    },
    {
      "cell_type": "code",
      "execution_count": 1,
      "metadata": {
        "colab": {
          "base_uri": "https://localhost:8080/",
          "height": 713
        },
        "id": "meTTfqQNX1_0",
        "outputId": "48d9cd7f-d598-4c7c-e80c-482db3d3d89f"
      },
      "outputs": [
        {
          "output_type": "execute_result",
          "data": {
            "text/html": [
              "\n",
              "  <div id=\"df-a428fdd5-8338-4951-a5a2-f7ca700e5285\">\n",
              "    <div class=\"colab-df-container\">\n",
              "      <div>\n",
              "<style scoped>\n",
              "    .dataframe tbody tr th:only-of-type {\n",
              "        vertical-align: middle;\n",
              "    }\n",
              "\n",
              "    .dataframe tbody tr th {\n",
              "        vertical-align: top;\n",
              "    }\n",
              "\n",
              "    .dataframe thead th {\n",
              "        text-align: right;\n",
              "    }\n",
              "</style>\n",
              "<table border=\"1\" class=\"dataframe\">\n",
              "  <thead>\n",
              "    <tr style=\"text-align: right;\">\n",
              "      <th></th>\n",
              "      <th>Suburb</th>\n",
              "      <th>Address</th>\n",
              "      <th>Rooms</th>\n",
              "      <th>Type</th>\n",
              "      <th>Price</th>\n",
              "      <th>Method</th>\n",
              "      <th>SellerG</th>\n",
              "      <th>Date</th>\n",
              "      <th>Distance</th>\n",
              "      <th>Postcode</th>\n",
              "      <th>Bedroom2</th>\n",
              "      <th>Bathroom</th>\n",
              "      <th>Car</th>\n",
              "      <th>Landsize</th>\n",
              "      <th>BuildingArea</th>\n",
              "      <th>YearBuilt</th>\n",
              "      <th>CouncilArea</th>\n",
              "      <th>Lattitude</th>\n",
              "      <th>Longtitude</th>\n",
              "      <th>Regionname</th>\n",
              "      <th>Propertycount</th>\n",
              "    </tr>\n",
              "  </thead>\n",
              "  <tbody>\n",
              "    <tr>\n",
              "      <th>0</th>\n",
              "      <td>Abbotsford</td>\n",
              "      <td>85 Turner St</td>\n",
              "      <td>2</td>\n",
              "      <td>h</td>\n",
              "      <td>1480000.0</td>\n",
              "      <td>S</td>\n",
              "      <td>Biggin</td>\n",
              "      <td>3/12/2016</td>\n",
              "      <td>2.5</td>\n",
              "      <td>3067.0</td>\n",
              "      <td>2.0</td>\n",
              "      <td>1.0</td>\n",
              "      <td>1.0</td>\n",
              "      <td>202.0</td>\n",
              "      <td>NaN</td>\n",
              "      <td>NaN</td>\n",
              "      <td>Yarra</td>\n",
              "      <td>-37.79960</td>\n",
              "      <td>144.99840</td>\n",
              "      <td>Northern Metropolitan</td>\n",
              "      <td>4019.0</td>\n",
              "    </tr>\n",
              "    <tr>\n",
              "      <th>1</th>\n",
              "      <td>Abbotsford</td>\n",
              "      <td>25 Bloomburg St</td>\n",
              "      <td>2</td>\n",
              "      <td>h</td>\n",
              "      <td>1035000.0</td>\n",
              "      <td>S</td>\n",
              "      <td>Biggin</td>\n",
              "      <td>4/02/2016</td>\n",
              "      <td>2.5</td>\n",
              "      <td>3067.0</td>\n",
              "      <td>2.0</td>\n",
              "      <td>1.0</td>\n",
              "      <td>0.0</td>\n",
              "      <td>156.0</td>\n",
              "      <td>79.0</td>\n",
              "      <td>1900.0</td>\n",
              "      <td>Yarra</td>\n",
              "      <td>-37.80790</td>\n",
              "      <td>144.99340</td>\n",
              "      <td>Northern Metropolitan</td>\n",
              "      <td>4019.0</td>\n",
              "    </tr>\n",
              "    <tr>\n",
              "      <th>2</th>\n",
              "      <td>Abbotsford</td>\n",
              "      <td>5 Charles St</td>\n",
              "      <td>3</td>\n",
              "      <td>h</td>\n",
              "      <td>1465000.0</td>\n",
              "      <td>SP</td>\n",
              "      <td>Biggin</td>\n",
              "      <td>4/03/2017</td>\n",
              "      <td>2.5</td>\n",
              "      <td>3067.0</td>\n",
              "      <td>3.0</td>\n",
              "      <td>2.0</td>\n",
              "      <td>0.0</td>\n",
              "      <td>134.0</td>\n",
              "      <td>150.0</td>\n",
              "      <td>1900.0</td>\n",
              "      <td>Yarra</td>\n",
              "      <td>-37.80930</td>\n",
              "      <td>144.99440</td>\n",
              "      <td>Northern Metropolitan</td>\n",
              "      <td>4019.0</td>\n",
              "    </tr>\n",
              "    <tr>\n",
              "      <th>3</th>\n",
              "      <td>Abbotsford</td>\n",
              "      <td>40 Federation La</td>\n",
              "      <td>3</td>\n",
              "      <td>h</td>\n",
              "      <td>850000.0</td>\n",
              "      <td>PI</td>\n",
              "      <td>Biggin</td>\n",
              "      <td>4/03/2017</td>\n",
              "      <td>2.5</td>\n",
              "      <td>3067.0</td>\n",
              "      <td>3.0</td>\n",
              "      <td>2.0</td>\n",
              "      <td>1.0</td>\n",
              "      <td>94.0</td>\n",
              "      <td>NaN</td>\n",
              "      <td>NaN</td>\n",
              "      <td>Yarra</td>\n",
              "      <td>-37.79690</td>\n",
              "      <td>144.99690</td>\n",
              "      <td>Northern Metropolitan</td>\n",
              "      <td>4019.0</td>\n",
              "    </tr>\n",
              "    <tr>\n",
              "      <th>4</th>\n",
              "      <td>Abbotsford</td>\n",
              "      <td>55a Park St</td>\n",
              "      <td>4</td>\n",
              "      <td>h</td>\n",
              "      <td>1600000.0</td>\n",
              "      <td>VB</td>\n",
              "      <td>Nelson</td>\n",
              "      <td>4/06/2016</td>\n",
              "      <td>2.5</td>\n",
              "      <td>3067.0</td>\n",
              "      <td>3.0</td>\n",
              "      <td>1.0</td>\n",
              "      <td>2.0</td>\n",
              "      <td>120.0</td>\n",
              "      <td>142.0</td>\n",
              "      <td>2014.0</td>\n",
              "      <td>Yarra</td>\n",
              "      <td>-37.80720</td>\n",
              "      <td>144.99410</td>\n",
              "      <td>Northern Metropolitan</td>\n",
              "      <td>4019.0</td>\n",
              "    </tr>\n",
              "    <tr>\n",
              "      <th>...</th>\n",
              "      <td>...</td>\n",
              "      <td>...</td>\n",
              "      <td>...</td>\n",
              "      <td>...</td>\n",
              "      <td>...</td>\n",
              "      <td>...</td>\n",
              "      <td>...</td>\n",
              "      <td>...</td>\n",
              "      <td>...</td>\n",
              "      <td>...</td>\n",
              "      <td>...</td>\n",
              "      <td>...</td>\n",
              "      <td>...</td>\n",
              "      <td>...</td>\n",
              "      <td>...</td>\n",
              "      <td>...</td>\n",
              "      <td>...</td>\n",
              "      <td>...</td>\n",
              "      <td>...</td>\n",
              "      <td>...</td>\n",
              "      <td>...</td>\n",
              "    </tr>\n",
              "    <tr>\n",
              "      <th>13575</th>\n",
              "      <td>Wheelers Hill</td>\n",
              "      <td>12 Strada Cr</td>\n",
              "      <td>4</td>\n",
              "      <td>h</td>\n",
              "      <td>1245000.0</td>\n",
              "      <td>S</td>\n",
              "      <td>Barry</td>\n",
              "      <td>26/08/2017</td>\n",
              "      <td>16.7</td>\n",
              "      <td>3150.0</td>\n",
              "      <td>4.0</td>\n",
              "      <td>2.0</td>\n",
              "      <td>2.0</td>\n",
              "      <td>652.0</td>\n",
              "      <td>NaN</td>\n",
              "      <td>1981.0</td>\n",
              "      <td>NaN</td>\n",
              "      <td>-37.90562</td>\n",
              "      <td>145.16761</td>\n",
              "      <td>South-Eastern Metropolitan</td>\n",
              "      <td>7392.0</td>\n",
              "    </tr>\n",
              "    <tr>\n",
              "      <th>13576</th>\n",
              "      <td>Williamstown</td>\n",
              "      <td>77 Merrett Dr</td>\n",
              "      <td>3</td>\n",
              "      <td>h</td>\n",
              "      <td>1031000.0</td>\n",
              "      <td>SP</td>\n",
              "      <td>Williams</td>\n",
              "      <td>26/08/2017</td>\n",
              "      <td>6.8</td>\n",
              "      <td>3016.0</td>\n",
              "      <td>3.0</td>\n",
              "      <td>2.0</td>\n",
              "      <td>2.0</td>\n",
              "      <td>333.0</td>\n",
              "      <td>133.0</td>\n",
              "      <td>1995.0</td>\n",
              "      <td>NaN</td>\n",
              "      <td>-37.85927</td>\n",
              "      <td>144.87904</td>\n",
              "      <td>Western Metropolitan</td>\n",
              "      <td>6380.0</td>\n",
              "    </tr>\n",
              "    <tr>\n",
              "      <th>13577</th>\n",
              "      <td>Williamstown</td>\n",
              "      <td>83 Power St</td>\n",
              "      <td>3</td>\n",
              "      <td>h</td>\n",
              "      <td>1170000.0</td>\n",
              "      <td>S</td>\n",
              "      <td>Raine</td>\n",
              "      <td>26/08/2017</td>\n",
              "      <td>6.8</td>\n",
              "      <td>3016.0</td>\n",
              "      <td>3.0</td>\n",
              "      <td>2.0</td>\n",
              "      <td>4.0</td>\n",
              "      <td>436.0</td>\n",
              "      <td>NaN</td>\n",
              "      <td>1997.0</td>\n",
              "      <td>NaN</td>\n",
              "      <td>-37.85274</td>\n",
              "      <td>144.88738</td>\n",
              "      <td>Western Metropolitan</td>\n",
              "      <td>6380.0</td>\n",
              "    </tr>\n",
              "    <tr>\n",
              "      <th>13578</th>\n",
              "      <td>Williamstown</td>\n",
              "      <td>96 Verdon St</td>\n",
              "      <td>4</td>\n",
              "      <td>h</td>\n",
              "      <td>2500000.0</td>\n",
              "      <td>PI</td>\n",
              "      <td>Sweeney</td>\n",
              "      <td>26/08/2017</td>\n",
              "      <td>6.8</td>\n",
              "      <td>3016.0</td>\n",
              "      <td>4.0</td>\n",
              "      <td>1.0</td>\n",
              "      <td>5.0</td>\n",
              "      <td>866.0</td>\n",
              "      <td>157.0</td>\n",
              "      <td>1920.0</td>\n",
              "      <td>NaN</td>\n",
              "      <td>-37.85908</td>\n",
              "      <td>144.89299</td>\n",
              "      <td>Western Metropolitan</td>\n",
              "      <td>6380.0</td>\n",
              "    </tr>\n",
              "    <tr>\n",
              "      <th>13579</th>\n",
              "      <td>Yarraville</td>\n",
              "      <td>6 Agnes St</td>\n",
              "      <td>4</td>\n",
              "      <td>h</td>\n",
              "      <td>1285000.0</td>\n",
              "      <td>SP</td>\n",
              "      <td>Village</td>\n",
              "      <td>26/08/2017</td>\n",
              "      <td>6.3</td>\n",
              "      <td>3013.0</td>\n",
              "      <td>4.0</td>\n",
              "      <td>1.0</td>\n",
              "      <td>1.0</td>\n",
              "      <td>362.0</td>\n",
              "      <td>112.0</td>\n",
              "      <td>1920.0</td>\n",
              "      <td>NaN</td>\n",
              "      <td>-37.81188</td>\n",
              "      <td>144.88449</td>\n",
              "      <td>Western Metropolitan</td>\n",
              "      <td>6543.0</td>\n",
              "    </tr>\n",
              "  </tbody>\n",
              "</table>\n",
              "<p>13580 rows × 21 columns</p>\n",
              "</div>\n",
              "      <button class=\"colab-df-convert\" onclick=\"convertToInteractive('df-a428fdd5-8338-4951-a5a2-f7ca700e5285')\"\n",
              "              title=\"Convert this dataframe to an interactive table.\"\n",
              "              style=\"display:none;\">\n",
              "        \n",
              "  <svg xmlns=\"http://www.w3.org/2000/svg\" height=\"24px\"viewBox=\"0 0 24 24\"\n",
              "       width=\"24px\">\n",
              "    <path d=\"M0 0h24v24H0V0z\" fill=\"none\"/>\n",
              "    <path d=\"M18.56 5.44l.94 2.06.94-2.06 2.06-.94-2.06-.94-.94-2.06-.94 2.06-2.06.94zm-11 1L8.5 8.5l.94-2.06 2.06-.94-2.06-.94L8.5 2.5l-.94 2.06-2.06.94zm10 10l.94 2.06.94-2.06 2.06-.94-2.06-.94-.94-2.06-.94 2.06-2.06.94z\"/><path d=\"M17.41 7.96l-1.37-1.37c-.4-.4-.92-.59-1.43-.59-.52 0-1.04.2-1.43.59L10.3 9.45l-7.72 7.72c-.78.78-.78 2.05 0 2.83L4 21.41c.39.39.9.59 1.41.59.51 0 1.02-.2 1.41-.59l7.78-7.78 2.81-2.81c.8-.78.8-2.07 0-2.86zM5.41 20L4 18.59l7.72-7.72 1.47 1.35L5.41 20z\"/>\n",
              "  </svg>\n",
              "      </button>\n",
              "      \n",
              "  <style>\n",
              "    .colab-df-container {\n",
              "      display:flex;\n",
              "      flex-wrap:wrap;\n",
              "      gap: 12px;\n",
              "    }\n",
              "\n",
              "    .colab-df-convert {\n",
              "      background-color: #E8F0FE;\n",
              "      border: none;\n",
              "      border-radius: 50%;\n",
              "      cursor: pointer;\n",
              "      display: none;\n",
              "      fill: #1967D2;\n",
              "      height: 32px;\n",
              "      padding: 0 0 0 0;\n",
              "      width: 32px;\n",
              "    }\n",
              "\n",
              "    .colab-df-convert:hover {\n",
              "      background-color: #E2EBFA;\n",
              "      box-shadow: 0px 1px 2px rgba(60, 64, 67, 0.3), 0px 1px 3px 1px rgba(60, 64, 67, 0.15);\n",
              "      fill: #174EA6;\n",
              "    }\n",
              "\n",
              "    [theme=dark] .colab-df-convert {\n",
              "      background-color: #3B4455;\n",
              "      fill: #D2E3FC;\n",
              "    }\n",
              "\n",
              "    [theme=dark] .colab-df-convert:hover {\n",
              "      background-color: #434B5C;\n",
              "      box-shadow: 0px 1px 3px 1px rgba(0, 0, 0, 0.15);\n",
              "      filter: drop-shadow(0px 1px 2px rgba(0, 0, 0, 0.3));\n",
              "      fill: #FFFFFF;\n",
              "    }\n",
              "  </style>\n",
              "\n",
              "      <script>\n",
              "        const buttonEl =\n",
              "          document.querySelector('#df-a428fdd5-8338-4951-a5a2-f7ca700e5285 button.colab-df-convert');\n",
              "        buttonEl.style.display =\n",
              "          google.colab.kernel.accessAllowed ? 'block' : 'none';\n",
              "\n",
              "        async function convertToInteractive(key) {\n",
              "          const element = document.querySelector('#df-a428fdd5-8338-4951-a5a2-f7ca700e5285');\n",
              "          const dataTable =\n",
              "            await google.colab.kernel.invokeFunction('convertToInteractive',\n",
              "                                                     [key], {});\n",
              "          if (!dataTable) return;\n",
              "\n",
              "          const docLinkHtml = 'Like what you see? Visit the ' +\n",
              "            '<a target=\"_blank\" href=https://colab.research.google.com/notebooks/data_table.ipynb>data table notebook</a>'\n",
              "            + ' to learn more about interactive tables.';\n",
              "          element.innerHTML = '';\n",
              "          dataTable['output_type'] = 'display_data';\n",
              "          await google.colab.output.renderOutput(dataTable, element);\n",
              "          const docLink = document.createElement('div');\n",
              "          docLink.innerHTML = docLinkHtml;\n",
              "          element.appendChild(docLink);\n",
              "        }\n",
              "      </script>\n",
              "    </div>\n",
              "  </div>\n",
              "  "
            ],
            "text/plain": [
              "              Suburb  ... Propertycount\n",
              "0         Abbotsford  ...        4019.0\n",
              "1         Abbotsford  ...        4019.0\n",
              "2         Abbotsford  ...        4019.0\n",
              "3         Abbotsford  ...        4019.0\n",
              "4         Abbotsford  ...        4019.0\n",
              "...              ...  ...           ...\n",
              "13575  Wheelers Hill  ...        7392.0\n",
              "13576   Williamstown  ...        6380.0\n",
              "13577   Williamstown  ...        6380.0\n",
              "13578   Williamstown  ...        6380.0\n",
              "13579     Yarraville  ...        6543.0\n",
              "\n",
              "[13580 rows x 21 columns]"
            ]
          },
          "metadata": {},
          "execution_count": 1
        }
      ],
      "source": [
        "# remember to type in your standard library import for pandas first\n",
        "import pandas as pd\n",
        "\n",
        "url = 'https://gist.githubusercontent.com/TieJean/ba718aac753c2f90e3d4e040d8f7d982/raw/2aca4164b087fa86721e877b4f1a6bd46d687035/melb_data.csv'\n",
        "\n",
        "df = pd.read_csv(url)\n",
        "\n",
        "df"
      ]
    },
    {
      "cell_type": "markdown",
      "metadata": {
        "id": "w8oF--FrX1_0"
      },
      "source": [
        "## Q2 - How many unique suburbs are there?\n",
        "\n",
        "Are there any pandas DataFrame operations that can do this for you?\n",
        "\n",
        "[This](https://pandas.pydata.org/pandas-docs/stable/reference/api/pandas.Series.nunique.html) function might help. "
      ]
    },
    {
      "cell_type": "code",
      "execution_count": 2,
      "metadata": {
        "id": "hLKvAS0YX1_1",
        "colab": {
          "base_uri": "https://localhost:8080/"
        },
        "outputId": "40095597-32cc-4368-a983-d490cb927412"
      },
      "outputs": [
        {
          "output_type": "execute_result",
          "data": {
            "text/plain": [
              "Suburb    314\n",
              "dtype: int64"
            ]
          },
          "metadata": {},
          "execution_count": 2
        }
      ],
      "source": [
        "# code goes here\n",
        "\n",
        "df_suburb = df[['Suburb']]\n",
        "\n",
        "df_suburb.nunique()\n"
      ]
    },
    {
      "cell_type": "markdown",
      "metadata": {
        "id": "e6X1RCrUX1_1"
      },
      "source": [
        "## Q3 - How many unique properties are there?\n",
        "\n",
        "If you forget the names of the columns you can always type:\n",
        "\n",
        "`df.columns` \n",
        "\n",
        "in a cell by itself to see this list of column names."
      ]
    },
    {
      "cell_type": "code",
      "execution_count": 3,
      "metadata": {
        "id": "ER7hBbf9X1_2",
        "colab": {
          "base_uri": "https://localhost:8080/"
        },
        "outputId": "39a10680-3ca1-46d4-8ae0-7be9913ee2a0"
      },
      "outputs": [
        {
          "output_type": "execute_result",
          "data": {
            "text/plain": [
              "Address    13378\n",
              "dtype: int64"
            ]
          },
          "metadata": {},
          "execution_count": 3
        }
      ],
      "source": [
        "# code goes here\n",
        "\n",
        "df_address = df[['Address']]\n",
        "\n",
        "df_address.nunique()\n"
      ]
    },
    {
      "cell_type": "markdown",
      "metadata": {
        "id": "BtVI3MNMX1_2"
      },
      "source": [
        "## Q4 - What is the mean price of a property in the Kensington suburb?\n",
        "\n",
        "You are getting the hang of reading the documentation!  Try finding the function\n",
        "for mean yourself at the [root page](https://pandas.pydata.org/pandas-docs/stable/index.html) of the documentation."
      ]
    },
    {
      "cell_type": "code",
      "execution_count": 4,
      "metadata": {
        "id": "Z9l57TjwX1_3",
        "colab": {
          "base_uri": "https://localhost:8080/"
        },
        "outputId": "602c3cbf-c0e5-4521-dde0-2fb1eed014be"
      },
      "outputs": [
        {
          "output_type": "execute_result",
          "data": {
            "text/plain": [
              "831667.4358974359"
            ]
          },
          "metadata": {},
          "execution_count": 4
        }
      ],
      "source": [
        "# code goes here\n",
        "\n",
        "df_kensington = df[df['Suburb'].isin(['Kensington'])]\n",
        "\n",
        "df_kensington['Price'].mean()\n",
        "\n"
      ]
    },
    {
      "cell_type": "markdown",
      "metadata": {
        "id": "-8ZCoblfX1_4"
      },
      "source": [
        "## Q5 - What percentage of properties contain a YearBuilt value?"
      ]
    },
    {
      "cell_type": "code",
      "execution_count": 5,
      "metadata": {
        "id": "mRRvcWjQX1_4",
        "colab": {
          "base_uri": "https://localhost:8080/",
          "height": 35
        },
        "outputId": "114e9a3c-9e77-4b01-c10b-b3f374f54817"
      },
      "outputs": [
        {
          "output_type": "execute_result",
          "data": {
            "application/vnd.google.colaboratory.intrinsic+json": {
              "type": "string"
            },
            "text/plain": [
              "'60.41973490427098%'"
            ]
          },
          "metadata": {},
          "execution_count": 5
        }
      ],
      "source": [
        "# code goes here\n",
        "\n",
        "df_yearbuilt = df['YearBuilt']\n",
        "\n",
        "df_yearbuilt_no_nan = df[df['YearBuilt'].notna()]\n",
        "\n",
        "no_nan = len(df_yearbuilt_no_nan)\n",
        "\n",
        "total = len(df_yearbuilt)\n",
        "\n",
        "percentage  = (no_nan/total) * 100\n",
        "\n",
        "str(percentage) + '%'\n"
      ]
    },
    {
      "cell_type": "markdown",
      "metadata": {
        "id": "aiQCYn_IX1_4"
      },
      "source": [
        "## Q6 - Plot the Landsize as a histogram using 20 bins. Say something interesting about the graph.\n",
        "\n",
        "Matplotlib is [here](https://matplotlib.org/3.3.3/api/_as_gen/matplotlib.pyplot.hist.html) to help. \n",
        "\n",
        "In data visualization we discuss the \"Ink Ratio\" of creating graphics.  If you use the definalt bin sizes of the matplotlib histogram function, you will find that the histogram is not very informative.  Use the documentation to guide you to adjust the width of the bins in the histogram to make one _really_ wide bin on the right, and the rest of the bins equally distributed where most of the data resides. "
      ]
    },
    {
      "cell_type": "code",
      "execution_count": 6,
      "metadata": {
        "id": "Oo6vG_lMX1_5",
        "colab": {
          "base_uri": "https://localhost:8080/",
          "height": 295
        },
        "outputId": "c5901e5e-bb7f-4a24-9761-57b4f6f3223c"
      },
      "outputs": [
        {
          "output_type": "display_data",
          "data": {
            "image/png": "[encoded data removed]",
            "text/plain": [
              "<Figure size 432x288 with 1 Axes>"
            ]
          },
          "metadata": {
            "needs_background": "light"
          }
        }
      ],
      "source": [
        "# code goes here\n",
        "\n",
        "import matplotlib.pyplot as plt\n",
        "\n",
        "df_landsize = df['Landsize']\n",
        "\n",
        "df_landsize\n",
        "\n",
        "bins = [0,100,200,300,400,500,600,700,800,900,1000,1100,1200,1300,1400,1500,1600,1700,1800,1900, df_landsize.max()]\n",
        "\n",
        "plt.hist(df_landsize, bins= bins, edgecolor = 'black', color = 'green')\n",
        "\n",
        "plt.title('Histogram of Landsize in the Melb Data Set')\n",
        "\n",
        "plt.xlabel('Landsize')\n",
        "\n",
        "plt.ylabel('Numebr of Houses')\n",
        "\n",
        "plt.xlim([0, 2100])\n",
        "\n",
        "plt.text(1150, 500, r'Last Bin is Properties > 1900')\n",
        "\n",
        "plt.show()\n"
      ]
    },
    {
      "cell_type": "markdown",
      "source": [
        "The histogram shows that most houses on the data set have a landsize less than 750 units. The last bin hold all properties gretaer than 1900 units. "
      ],
      "metadata": {
        "id": "qnvqcTDGIjPm"
      }
    },
    {
      "cell_type": "markdown",
      "source": [
        ""
      ],
      "metadata": {
        "id": "gC_lWfxcArzI"
      }
    },
    {
      "cell_type": "markdown",
      "metadata": {
        "id": "yd42RX90X1_5"
      },
      "source": [
        "## Q7 - Plot a scatter plot of price as a function of BuildingArea using only rows that have a valid BuildingArea value\n",
        "\n",
        "Break this down into slicing the DataFrame first, then creating the visualization.  There are both `plot` and `scatter` functions in the matplotlib library that can help here.  You'll notice there is more than one way to do a thing so much in computer science 😄\n",
        "\n",
        "If you have to change your axes and end up excluding some points to make the data more visible, then annotate the number of points excluded in the graph. "
      ]
    },
    {
      "cell_type": "code",
      "execution_count": 7,
      "metadata": {
        "id": "8rCVjyRkX1_5",
        "colab": {
          "base_uri": "https://localhost:8080/",
          "height": 295
        },
        "outputId": "c5ae09cd-ba35-44de-8944-5337f5ff6c18"
      },
      "outputs": [
        {
          "output_type": "display_data",
          "data": {
            "image/png": "[encoded data removed]",
            "text/plain": [
              "<Figure size 432x288 with 1 Axes>"
            ]
          },
          "metadata": {
            "needs_background": "light"
          }
        }
      ],
      "source": [
        "# code goes here\n",
        "\n",
        "df_buildarea = df[df['BuildingArea'].notna()]\n",
        "\n",
        "df_barea_under = df_buildarea[df_buildarea['BuildingArea'] < 1000]\n",
        "\n",
        "df_barea_over = df_buildarea[df_buildarea['BuildingArea'] >= 1000]\n",
        "\n",
        "df_building_area = df_barea_under['BuildingArea']\n",
        "\n",
        "df_price = df_barea_under['Price']\n",
        "\n",
        "plt.scatter(df_building_area, df_price, color = 'blue')\n",
        "\n",
        "plt.title('Price as a Function of Building Area')\n",
        "\n",
        "plt.xlabel('Building Area')\n",
        "\n",
        "plt.ylabel('Price')\n",
        "\n",
        "plt.xlim([0,1000])\n",
        "\n",
        "plt.text(600, 7e6, str(len(df_barea_over)) + ' Properties are not shown')\n",
        "\n",
        "plt.grid()\n",
        "\n",
        "plt.show()"
      ]
    },
    {
      "cell_type": "markdown",
      "metadata": {
        "id": "JBJ-e7kXX1_6"
      },
      "source": [
        "## Q8 - List the top 10 SellerG, and what percentage of properties they have listed \n",
        "\n",
        "I'm going to assume that the SellerG column is the name of the seller group, so \"realtor\" in US parlance.  So, that column is interpreted as the seller that listed the property.\n",
        "\n",
        "Check out the function `value_counts` in pandas documentation. "
      ]
    },
    {
      "cell_type": "code",
      "execution_count": 8,
      "metadata": {
        "id": "UgG7EEkMX1_6",
        "colab": {
          "base_uri": "https://localhost:8080/",
          "height": 394
        },
        "outputId": "7f423665-e49c-4527-caff-dc8a3fbbb939"
      },
      "outputs": [
        {
          "output_type": "execute_result",
          "data": {
            "text/html": [
              "\n",
              "  <div id=\"df-e8cfa7b3-40d6-457e-96fa-e7d595755ac3\">\n",
              "    <div class=\"colab-df-container\">\n",
              "      <div>\n",
              "<style scoped>\n",
              "    .dataframe tbody tr th:only-of-type {\n",
              "        vertical-align: middle;\n",
              "    }\n",
              "\n",
              "    .dataframe tbody tr th {\n",
              "        vertical-align: top;\n",
              "    }\n",
              "\n",
              "    .dataframe thead th {\n",
              "        text-align: right;\n",
              "    }\n",
              "</style>\n",
              "<table border=\"1\" class=\"dataframe\">\n",
              "  <thead>\n",
              "    <tr style=\"text-align: right;\">\n",
              "      <th></th>\n",
              "      <th>Count</th>\n",
              "      <th>Percentage</th>\n",
              "    </tr>\n",
              "    <tr>\n",
              "      <th>SellerG</th>\n",
              "      <th></th>\n",
              "      <th></th>\n",
              "    </tr>\n",
              "  </thead>\n",
              "  <tbody>\n",
              "    <tr>\n",
              "      <th>Nelson</th>\n",
              "      <td>1565</td>\n",
              "      <td>11.524300</td>\n",
              "    </tr>\n",
              "    <tr>\n",
              "      <th>Jellis</th>\n",
              "      <td>1316</td>\n",
              "      <td>9.690722</td>\n",
              "    </tr>\n",
              "    <tr>\n",
              "      <th>hockingstuart</th>\n",
              "      <td>1167</td>\n",
              "      <td>8.593520</td>\n",
              "    </tr>\n",
              "    <tr>\n",
              "      <th>Barry</th>\n",
              "      <td>1011</td>\n",
              "      <td>7.444772</td>\n",
              "    </tr>\n",
              "    <tr>\n",
              "      <th>Ray</th>\n",
              "      <td>701</td>\n",
              "      <td>5.162003</td>\n",
              "    </tr>\n",
              "    <tr>\n",
              "      <th>Marshall</th>\n",
              "      <td>659</td>\n",
              "      <td>4.852725</td>\n",
              "    </tr>\n",
              "    <tr>\n",
              "      <th>Buxton</th>\n",
              "      <td>632</td>\n",
              "      <td>4.653903</td>\n",
              "    </tr>\n",
              "    <tr>\n",
              "      <th>Biggin</th>\n",
              "      <td>393</td>\n",
              "      <td>2.893962</td>\n",
              "    </tr>\n",
              "    <tr>\n",
              "      <th>Brad</th>\n",
              "      <td>342</td>\n",
              "      <td>2.518409</td>\n",
              "    </tr>\n",
              "    <tr>\n",
              "      <th>Woodards</th>\n",
              "      <td>301</td>\n",
              "      <td>2.216495</td>\n",
              "    </tr>\n",
              "  </tbody>\n",
              "</table>\n",
              "</div>\n",
              "      <button class=\"colab-df-convert\" onclick=\"convertToInteractive('df-e8cfa7b3-40d6-457e-96fa-e7d595755ac3')\"\n",
              "              title=\"Convert this dataframe to an interactive table.\"\n",
              "              style=\"display:none;\">\n",
              "        \n",
              "  <svg xmlns=\"http://www.w3.org/2000/svg\" height=\"24px\"viewBox=\"0 0 24 24\"\n",
              "       width=\"24px\">\n",
              "    <path d=\"M0 0h24v24H0V0z\" fill=\"none\"/>\n",
              "    <path d=\"M18.56 5.44l.94 2.06.94-2.06 2.06-.94-2.06-.94-.94-2.06-.94 2.06-2.06.94zm-11 1L8.5 8.5l.94-2.06 2.06-.94-2.06-.94L8.5 2.5l-.94 2.06-2.06.94zm10 10l.94 2.06.94-2.06 2.06-.94-2.06-.94-.94-2.06-.94 2.06-2.06.94z\"/><path d=\"M17.41 7.96l-1.37-1.37c-.4-.4-.92-.59-1.43-.59-.52 0-1.04.2-1.43.59L10.3 9.45l-7.72 7.72c-.78.78-.78 2.05 0 2.83L4 21.41c.39.39.9.59 1.41.59.51 0 1.02-.2 1.41-.59l7.78-7.78 2.81-2.81c.8-.78.8-2.07 0-2.86zM5.41 20L4 18.59l7.72-7.72 1.47 1.35L5.41 20z\"/>\n",
              "  </svg>\n",
              "      </button>\n",
              "      \n",
              "  <style>\n",
              "    .colab-df-container {\n",
              "      display:flex;\n",
              "      flex-wrap:wrap;\n",
              "      gap: 12px;\n",
              "    }\n",
              "\n",
              "    .colab-df-convert {\n",
              "      background-color: #E8F0FE;\n",
              "      border: none;\n",
              "      border-radius: 50%;\n",
              "      cursor: pointer;\n",
              "      display: none;\n",
              "      fill: #1967D2;\n",
              "      height: 32px;\n",
              "      padding: 0 0 0 0;\n",
              "      width: 32px;\n",
              "    }\n",
              "\n",
              "    .colab-df-convert:hover {\n",
              "      background-color: #E2EBFA;\n",
              "      box-shadow: 0px 1px 2px rgba(60, 64, 67, 0.3), 0px 1px 3px 1px rgba(60, 64, 67, 0.15);\n",
              "      fill: #174EA6;\n",
              "    }\n",
              "\n",
              "    [theme=dark] .colab-df-convert {\n",
              "      background-color: #3B4455;\n",
              "      fill: #D2E3FC;\n",
              "    }\n",
              "\n",
              "    [theme=dark] .colab-df-convert:hover {\n",
              "      background-color: #434B5C;\n",
              "      box-shadow: 0px 1px 3px 1px rgba(0, 0, 0, 0.15);\n",
              "      filter: drop-shadow(0px 1px 2px rgba(0, 0, 0, 0.3));\n",
              "      fill: #FFFFFF;\n",
              "    }\n",
              "  </style>\n",
              "\n",
              "      <script>\n",
              "        const buttonEl =\n",
              "          document.querySelector('#df-e8cfa7b3-40d6-457e-96fa-e7d595755ac3 button.colab-df-convert');\n",
              "        buttonEl.style.display =\n",
              "          google.colab.kernel.accessAllowed ? 'block' : 'none';\n",
              "\n",
              "        async function convertToInteractive(key) {\n",
              "          const element = document.querySelector('#df-e8cfa7b3-40d6-457e-96fa-e7d595755ac3');\n",
              "          const dataTable =\n",
              "            await google.colab.kernel.invokeFunction('convertToInteractive',\n",
              "                                                     [key], {});\n",
              "          if (!dataTable) return;\n",
              "\n",
              "          const docLinkHtml = 'Like what you see? Visit the ' +\n",
              "            '<a target=\"_blank\" href=https://colab.research.google.com/notebooks/data_table.ipynb>data table notebook</a>'\n",
              "            + ' to learn more about interactive tables.';\n",
              "          element.innerHTML = '';\n",
              "          dataTable['output_type'] = 'display_data';\n",
              "          await google.colab.output.renderOutput(dataTable, element);\n",
              "          const docLink = document.createElement('div');\n",
              "          docLink.innerHTML = docLinkHtml;\n",
              "          element.appendChild(docLink);\n",
              "        }\n",
              "      </script>\n",
              "    </div>\n",
              "  </div>\n",
              "  "
            ],
            "text/plain": [
              "               Count  Percentage\n",
              "SellerG                         \n",
              "Nelson          1565   11.524300\n",
              "Jellis          1316    9.690722\n",
              "hockingstuart   1167    8.593520\n",
              "Barry           1011    7.444772\n",
              "Ray              701    5.162003\n",
              "Marshall         659    4.852725\n",
              "Buxton           632    4.653903\n",
              "Biggin           393    2.893962\n",
              "Brad             342    2.518409\n",
              "Woodards         301    2.216495"
            ]
          },
          "metadata": {},
          "execution_count": 8
        }
      ],
      "source": [
        "# code goes here\n",
        "\n",
        "total = len(df)\n",
        "\n",
        "df_sellerg = df[['SellerG']]\n",
        "\n",
        "df_sellerg\n",
        "\n",
        "df_sellerg_counts = df_sellerg.value_counts(sort = True)\n",
        "\n",
        "percentages = []\n",
        "\n",
        "for i in range(0, len(df_sellerg_counts)):\n",
        "  \n",
        "  percentages.append((int(df_sellerg_counts[i])/total) * 100)\n",
        "\n",
        "top_ten_data = {'Count' : df_sellerg_counts.head(10),\n",
        "                'Percentage' : percentages[0:10]\n",
        "                }\n",
        "\n",
        "df_top_ten = pd.DataFrame(top_ten_data)\n",
        "\n",
        "df_top_ten\n",
        "  \n",
        "\n"
      ]
    },
    {
      "cell_type": "markdown",
      "metadata": {
        "id": "5MBx3GOSX1_6"
      },
      "source": [
        "## Q9 - Fix a problem\n",
        "Your boss has told you that the number of rooms was calculated incorrectly systematically across the entire data set.  Add one room to the Rooms column using two methods:\n",
        "\n",
        " - a for loop, and\n",
        " - using a single statement\n",
        " \n",
        "Save those DataFrames into the variables `df1` and `df2`.  (We don't use these again, for the next questions just continue using `df`)\n",
        "\n",
        "Watch out that you don't accidentally change the original DataFrame using a shallow copy."
      ]
    },
    {
      "cell_type": "code",
      "execution_count": 9,
      "metadata": {
        "id": "r0ShZHNWX1_6",
        "colab": {
          "base_uri": "https://localhost:8080/"
        },
        "outputId": "2d9bbfc8-7a2c-432f-d486-78c1df7ae8ba"
      },
      "outputs": [
        {
          "output_type": "stream",
          "name": "stderr",
          "text": [
            "/usr/local/lib/python3.7/dist-packages/ipykernel_launcher.py:11: SettingWithCopyWarning: \n",
            "A value is trying to be set on a copy of a slice from a DataFrame\n",
            "\n",
            "See the caveats in the documentation: https://pandas.pydata.org/pandas-docs/stable/user_guide/indexing.html#returning-a-view-versus-a-copy\n",
            "  # This is added back by InteractiveShellApp.init_path()\n"
          ]
        },
        {
          "output_type": "execute_result",
          "data": {
            "text/plain": [
              "(0        3\n",
              " 1        3\n",
              " 2        4\n",
              " 3        4\n",
              " 4        5\n",
              "         ..\n",
              " 13575    5\n",
              " 13576    4\n",
              " 13577    4\n",
              " 13578    5\n",
              " 13579    5\n",
              " Name: Rooms, Length: 13580, dtype: int64, 0        3\n",
              " 1        3\n",
              " 2        4\n",
              " 3        4\n",
              " 4        5\n",
              "         ..\n",
              " 13575    5\n",
              " 13576    4\n",
              " 13577    4\n",
              " 13578    5\n",
              " 13579    5\n",
              " Name: Rooms, Length: 13580, dtype: int64)"
            ]
          },
          "metadata": {},
          "execution_count": 9
        }
      ],
      "source": [
        "# code goes here\n",
        "\n",
        "df1 = df.copy(deep = True)\n",
        "\n",
        "df2 = df.copy(deep = True)\n",
        "\n",
        "# for loop <-- takes a long time\n",
        "\n",
        "for i in range(0,len(df1)):\n",
        "\n",
        "  df1['Rooms'][i] += 1\n",
        "\n",
        "# single statemnt <-- much better\n",
        "\n",
        "df2['Rooms'] += 1\n",
        "\n",
        "df1['Rooms'], df2['Rooms']\n"
      ]
    },
    {
      "cell_type": "markdown",
      "metadata": {
        "id": "FygRoLlQX1_6"
      },
      "source": [
        "## Q10- What is the Address of the earliest built house in the data set?\n",
        "\n",
        "This will exercise your DataFrame slicing ability. "
      ]
    },
    {
      "cell_type": "code",
      "execution_count": 10,
      "metadata": {
        "id": "82HQO9rUX1_7",
        "colab": {
          "base_uri": "https://localhost:8080/",
          "height": 35
        },
        "outputId": "c1f0b64d-ca53-462a-889a-be98c1e25fe5"
      },
      "outputs": [
        {
          "output_type": "execute_result",
          "data": {
            "application/vnd.google.colaboratory.intrinsic+json": {
              "type": "string"
            },
            "text/plain": [
              "'1 Airlie St'"
            ]
          },
          "metadata": {},
          "execution_count": 10
        }
      ],
      "source": [
        "# code goes here\n",
        "\n",
        "df_no_nan = df[df['YearBuilt'].notna()]\n",
        "\n",
        "df_oldest_address = df_no_nan[['Address','YearBuilt']]\n",
        "\n",
        "oldest_address = df_oldest_address.min()\n",
        "\n",
        "oldest_address['Address']\n",
        "\n"
      ]
    },
    {
      "cell_type": "markdown",
      "metadata": {
        "id": "4N996VLjX1_7"
      },
      "source": [
        "## Q11 - Save a file \n",
        "\n",
        "The council member for Melbourne has asked for the information for their district.  Assume that there are legal restrcitions and we can only provide the council member the Suburb, Price, and Date from the CouncilArea \"Melbourne\" to the council person.  Export the file with only the allowed columns, and do not write and index column.\n",
        "\n",
        "The other half of `read_csv`, is `to_csv`.  Make sure you follow the documentation and only include the columns asked for in the output."
      ]
    },
    {
      "cell_type": "code",
      "execution_count": 11,
      "metadata": {
        "id": "MM_CwR9tX1_7",
        "colab": {
          "base_uri": "https://localhost:8080/",
          "height": 139
        },
        "outputId": "e9e7ad6d-6b99-4bb1-85b0-83270a3514d4"
      },
      "outputs": [
        {
          "output_type": "execute_result",
          "data": {
            "application/vnd.google.colaboratory.intrinsic+json": {
              "type": "string"
            },
            "text/plain": [
              "'Suburb,Price,Date\\nFlemington,957000.0,22/05/2016\\nKensington,785000.0,3/09/2016\\nKensington,852000.0,3/09/2016\\nKensington,1037000.0,3/09/2016\\nKensington,775000.0,3/12/2016\\nKensington,1470000.0,4/03/2017\\nKensington,630000.0,4/03/2017\\nKensington,492500.0,4/06/2016\\nKensington,420000.0,4/06/2016\\nKensington,650000.0,4/06/2016\\nKensington,1050000.0,4/06/2016\\nKensington,1291000.0,6/08/2016\\nKensington,420000.0,6/08/2016\\nKensington,961000.0,7/05/2016\\nKensington,1271000.0,7/05/2016\\nKensington,1010000.0,7/05/2016\\nKensington,750000.0,7/05/2016\\nKensington,1675000.0,7/05/2016\\nKensington,905000.0,8/10/2016\\nKensington,960000.0,8/10/2016\\nKensington,1031000.0,8/10/2016\\nKensington,918000.0,8/10/2016\\nKensington,870000.0,8/10/2016\\nKensington,1165000.0,10/09/2016\\nKensington,1710000.0,10/09/2016\\nKensington,360000.0,10/12/2016\\nKensington,1455000.0,10/12/2016\\nKensington,365000.0,10/12/2016\\nKensington,551000.0,10/12/2016\\nKensington,442000.0,10/12/2016\\nKensington,765000.0,10/12/2016\\nKensington,515000.0,11/02/2017\\nKensington,370000.0,12/06/2016\\nKensington,1005000.0,12/11/2016\\nKensington,1234500.0,13/08/2016\\nKensington,666000.0,13/08/2016\\nKensington,825000.0,14/05/2016\\nKensington,770000.0,14/05/2016\\nKensington,1135000.0,15/10/2016\\nKensington,975000.0,15/10/2016\\nKensington,812000.0,16/04/2016\\nKensington,1900000.0,16/04/2016\\nKensington,732000.0,18/06/2016\\nKensington,1260000.0,19/11/2016\\nKensington,1000000.0,19/11/2016\\nKensington,700000.0,19/11/2016\\nKensington,813500.0,22/05/2016\\nKensington,526000.0,22/08/2016\\nKensington,790000.0,22/08/2016\\nKensington,700000.0,22/08/2016\\nKensington,370000.0,22/08/2016\\nKensington,1230000.0,22/08/2016\\nKensington,460000.0,23/04/2016\\nKensington,395000.0,23/04/2016\\nKensington,1001000.0,24/09/2016\\nKensington,850000.0,24/09/2016\\nKensington,1335000.0,25/02/2017\\nKensington,868000.0,25/02/2017\\nKensington,960000.0,26/07/2016\\nKensington,773000.0,26/07/2016\\nKensington,631090.0,27/06/2016\\nKensington,410000.0,27/06/2016\\nKensington,425000.0,27/11/2016\\nKensington,1211000.0,27/11/2016\\nKensington,506000.0,27/11/2016\\nKensington,806000.0,28/05/2016\\nKensington,829000.0,28/05/2016\\nKensington,786000.0,28/08/2016\\nKensington,458000.0,30/07/2016\\nMelbourne,427000.0,3/12/2016\\nMelbourne,1160500.0,4/03/2017\\nMelbourne,780000.0,4/06/2016\\nMelbourne,535000.0,7/05/2016\\nMelbourne,450000.0,7/11/2016\\nMelbourne,360000.0,7/11/2016\\nMelbourne,665000.0,7/11/2016\\nMelbourne,386000.0,10/09/2016\\nMelbourne,659000.0,10/09/2016\\nMelbourne,671000.0,10/12/2016\\nMelbourne,545000.0,12/11/2016\\nMelbourne,450000.0,12/11/2016\\nMelbourne,432000.0,13/08/2016\\nMelbourne,400000.0,13/08/2016\\nMelbourne,210000.0,13/08/2016\\nMelbourne,750000.0,15/10/2016\\nMelbourne,375000.0,15/10/2016\\nMelbourne,680000.0,17/09/2016\\nMelbourne,470000.0,18/03/2017\\nMelbourne,650000.0,18/03/2017\\nMelbourne,483000.0,18/03/2017\\nMelbourne,610000.0,18/06/2016\\nMelbourne,700000.0,19/11/2016\\nMelbourne,520000.0,19/11/2016\\nMelbourne,440000.0,22/08/2016\\nMelbourne,436000.0,23/04/2016\\nMelbourne,733000.0,24/09/2016\\nMelbourne,675000.0,24/09/2016\\nMelbourne,1630000.0,25/02/2017\\nMelbourne,760000.0,28/05/2016\\nMelbourne,360000.0,28/08/2016\\nMelbourne,390000.0,30/07/2016\\nNorth Melbourne,2920000.0,3/09/2016\\nNorth Melbourne,1635000.0,3/09/2016\\nNorth Melbourne,491000.0,3/09/2016\\nNorth Melbourne,540000.0,3/12/2016\\nNorth Melbourne,340000.0,3/12/2016\\nNorth Melbourne,726000.0,4/03/2017\\nNorth Melbourne,1340000.0,4/03/2017\\nNorth Melbourne,1105000.0,4/03/2017\\nNorth Melbourne,841000.0,4/03/2017\\nNorth Melbourne,528500.0,4/06/2016\\nNorth Melbourne,585000.0,4/06/2016\\nNorth Melbourne,645000.0,7/05/2016\\nNorth Melbourne,410000.0,7/11/2016\\nNorth Melbourne,550000.0,7/11/2016\\nNorth Melbourne,470000.0,7/11/2016\\nNorth Melbourne,470000.0,7/11/2016\\nNorth Melbourne,475000.0,8/10/2016\\nNorth Melbourne,640000.0,8/10/2016\\nNorth Melbourne,1330000.0,10/09/2016\\nNorth Melbourne,720000.0,10/12/2016\\nNorth Melbourne,888000.0,10/12/2016\\nNorth Melbourne,1325000.0,10/12/2016\\nNorth Melbourne,368000.0,10/12/2016\\nNorth Melbourne,1300000.0,11/02/2017\\nNorth Melbourne,450000.0,12/11/2016\\nNorth Melbourne,1385000.0,13/08/2016\\nNorth Melbourne,990000.0,15/10/2016\\nNorth Melbourne,440000.0,16/04/2016\\nNorth Melbourne,606000.0,16/04/2016\\nNorth Melbourne,450000.0,16/07/2016\\nNorth Melbourne,1470000.0,17/09/2016\\nNorth Melbourne,591500.0,17/09/2016\\nNorth Melbourne,1300000.0,18/06/2016\\nNorth Melbourne,1010000.0,19/11/2016\\nNorth Melbourne,1266000.0,19/11/2016\\nNorth Melbourne,620000.0,19/11/2016\\nNorth Melbourne,540000.0,22/08/2016\\nNorth Melbourne,1200000.0,24/09/2016\\nNorth Melbourne,630000.0,24/09/2016\\nNorth Melbourne,560000.0,25/02/2017\\nNorth Melbourne,800000.0,27/06/2016\\nNorth Melbourne,665500.0,27/11/2016\\nNorth Melbourne,550055.0,27/11/2016\\nNorth Melbourne,358000.0,27/11/2016\\nNorth Melbourne,320000.0,27/11/2016\\nNorth Melbourne,1000000.0,27/11/2016\\nNorth Melbourne,598000.0,27/11/2016\\nNorth Melbourne,950000.0,28/05/2016\\nNorth Melbourne,1065000.0,28/05/2016\\nNorth Melbourne,885000.0,28/08/2016\\nNorth Melbourne,587134.0,28/08/2016\\nParkville,1230000.0,3/09/2016\\nParkville,1360000.0,3/12/2016\\nParkville,1805000.0,8/10/2016\\nParkville,352500.0,8/10/2016\\nParkville,395000.0,11/02/2017\\nParkville,307000.0,15/10/2016\\nParkville,2200000.0,15/10/2016\\nParkville,485000.0,15/10/2016\\nParkville,1717500.0,19/11/2016\\nParkville,1265000.0,19/11/2016\\nParkville,401000.0,19/11/2016\\nParkville,2375000.0,19/11/2016\\nParkville,1851000.0,22/08/2016\\nParkville,734600.0,22/08/2016\\nParkville,1928000.0,24/09/2016\\nParkville,526000.0,25/02/2017\\nParkville,2236000.0,27/06/2016\\nParkville,500000.0,27/11/2016\\nParkville,1403000.0,27/11/2016\\nParkville,965000.0,28/08/2016\\nParkville,1040000.0,28/08/2016\\nParkville,526000.0,30/07/2016\\nParkville,750000.0,30/07/2016\\nPort Melbourne,1000000.0,4/06/2016\\nPort Melbourne,600000.0,4/06/2016\\nPort Melbourne,795000.0,6/08/2016\\nPort Melbourne,590000.0,6/08/2016\\nPort Melbourne,1275000.0,7/05/2016\\nPort Melbourne,1000000.0,7/05/2016\\nPort Melbourne,1820000.0,7/11/2016\\nPort Melbourne,655000.0,10/09/2016\\nPort Melbourne,1016500.0,10/09/2016\\nPort Melbourne,1350000.0,10/09/2016\\nPort Melbourne,1101000.0,10/12/2016\\nPort Melbourne,875000.0,18/06/2016\\nPort Melbourne,1384000.0,18/06/2016\\nPort Melbourne,720000.0,22/05/2016\\nPort Melbourne,1130000.0,22/05/2016\\nPort Melbourne,600000.0,22/08/2016\\nPort Melbourne,779000.0,24/09/2016\\nPort Melbourne,790000.0,24/09/2016\\nPort Melbourne,455500.0,24/09/2016\\nPort Melbourne,1350000.0,27/11/2016\\nPort Melbourne,2100000.0,27/11/2016\\nPort Melbourne,400000.0,28/05/2016\\nPort Melbourne,1405000.0,30/07/2016\\nSouth Yarra,1230000.0,3/12/2016\\nSouth Yarra,695000.0,4/03/2017\\nSouth Yarra,863000.0,4/03/2017\\nSouth Yarra,680000.0,4/03/2017\\nSouth Yarra,750000.0,4/06/2016\\nSouth Yarra,572000.0,4/06/2016\\nSouth Yarra,1460000.0,4/06/2016\\nSouth Yarra,659000.0,7/11/2016\\nSouth Yarra,1300000.0,8/10/2016\\nSouth Yarra,1300000.0,8/10/2016\\nSouth Yarra,1630000.0,10/09/2016\\nSouth Yarra,555000.0,12/11/2016\\nSouth Yarra,2695000.0,12/11/2016\\nSouth Yarra,805000.0,12/11/2016\\nSouth Yarra,360000.0,12/11/2016\\nSouth Yarra,832000.0,15/10/2016\\nSouth Yarra,3000000.0,15/10/2016\\nSouth Yarra,805000.0,17/09/2016\\nSouth Yarra,2050000.0,18/03/2017\\nSouth Yarra,2600000.0,18/03/2017\\nSouth Yarra,567500.0,19/11/2016\\nSouth Yarra,540000.0,22/05/2016\\nSouth Yarra,310000.0,23/04/2016\\nSouth Yarra,520000.0,26/07/2016\\nSouth Yarra,260800.0,28/05/2016\\nSouth Yarra,826000.0,28/08/2016\\nSouth Yarra,910000.0,28/08/2016\\nSouth Yarra,1715000.0,28/08/2016\\nSouth Yarra,1700000.0,28/08/2016\\nSouthbank,720000.0,3/09/2016\\nSouthbank,385500.0,4/03/2017\\nSouthbank,868000.0,4/06/2016\\nSouthbank,590000.0,4/06/2016\\nSouthbank,530000.0,4/06/2016\\nSouthbank,650000.0,6/08/2016\\nSouthbank,990000.0,7/05/2016\\nSouthbank,623000.0,7/05/2016\\nSouthbank,592500.0,7/05/2016\\nSouthbank,600000.0,7/11/2016\\nSouthbank,485000.0,10/09/2016\\nSouthbank,455000.0,11/02/2017\\nSouthbank,569000.0,11/03/2017\\nSouthbank,1220000.0,12/11/2016\\nSouthbank,1250000.0,12/11/2016\\nSouthbank,430000.0,12/11/2016\\nSouthbank,480000.0,14/05/2016\\nSouthbank,425000.0,16/04/2016\\nSouthbank,815000.0,16/07/2016\\nSouthbank,580000.0,18/03/2017\\nSouthbank,700000.0,18/06/2016\\nSouthbank,660000.0,19/11/2016\\nSouthbank,622500.0,22/05/2016\\nSouthbank,690000.0,23/04/2016\\nSouthbank,800000.0,24/09/2016\\nSouthbank,540000.0,24/09/2016\\nSouthbank,370000.0,30/07/2016\\nSouthbank,720000.0,30/07/2016\\nWest Melbourne,1010000.0,3/09/2016\\nWest Melbourne,650000.0,3/12/2016\\nWest Melbourne,1260000.0,4/06/2016\\nWest Melbourne,460000.0,4/06/2016\\nWest Melbourne,2370000.0,4/06/2016\\nWest Melbourne,800000.0,6/08/2016\\nWest Melbourne,550000.0,7/05/2016\\nWest Melbourne,660000.0,7/05/2016\\nWest Melbourne,1055000.0,8/10/2016\\nWest Melbourne,995000.0,18/03/2017\\nWest Melbourne,1130000.0,18/06/2016\\nWest Melbourne,443000.0,24/09/2016\\nWest Melbourne,1120000.0,25/02/2017\\nWest Melbourne,482000.0,26/07/2016\\nWest Melbourne,620000.0,28/05/2016\\nWest Melbourne,2100000.0,28/05/2016\\nWest Melbourne,601000.0,30/07/2016\\nCarlton,735000.0,3/12/2016\\nCarlton,1460000.0,4/03/2017\\nCarlton,860000.0,4/06/2016\\nCarlton,1662000.0,7/05/2016\\nCarlton,1590000.0,7/05/2016\\nCarlton,610250.0,7/05/2016\\nCarlton,720000.0,7/05/2016\\nCarlton,840000.0,8/10/2016\\nCarlton,795000.0,10/12/2016\\nCarlton,705000.0,12/11/2016\\nCarlton,435000.0,13/08/2016\\nCarlton,1630100.0,14/05/2016\\nCarlton,480000.0,14/05/2016\\nCarlton,1600000.0,14/05/2016\\nCarlton,500000.0,14/05/2016\\nCarlton,920000.0,15/10/2016\\nCarlton,1600000.0,17/09/2016\\nCarlton,1010000.0,18/03/2017\\nCarlton,875000.0,18/03/2017\\nCarlton,1170000.0,18/06/2016\\nCarlton,1260000.0,18/06/2016\\nCarlton,600000.0,22/05/2016\\nCarlton,310000.0,22/05/2016\\nCarlton,1550000.0,22/08/2016\\nCarlton,2033000.0,23/04/2016\\nCarlton,1110000.0,24/09/2016\\nCarlton,2705000.0,25/02/2017\\nCarlton,1616000.0,25/02/2017\\nCarlton,585000.0,27/11/2016\\nCarlton,1162000.0,27/11/2016\\nCarlton,589000.0,28/05/2016\\nCarlton,2345000.0,28/08/2016\\nCarlton,1117000.0,28/08/2016\\nCarlton,600000.0,30/07/2016\\nCarlton,957000.0,30/07/2016\\nEast Melbourne,4525000.0,3/12/2016\\nEast Melbourne,3520000.0,4/06/2016\\nEast Melbourne,740000.0,8/10/2016\\nEast Melbourne,1015000.0,8/10/2016\\nEast Melbourne,1400000.0,8/10/2016\\nEast Melbourne,1935000.0,16/07/2016\\nEast Melbourne,1475000.0,18/06/2016\\nEast Melbourne,700000.0,22/08/2016\\nEast Melbourne,565000.0,24/09/2016\\nEast Melbourne,900000.0,25/02/2017\\nEast Melbourne,630000.0,25/02/2017\\nEast Melbourne,750000.0,28/05/2016\\nEast Melbourne,872000.0,28/05/2016\\nEast Melbourne,765000.0,28/08/2016\\nDocklands,360000.0,10/12/2016\\nDocklands,1370000.0,13/08/2016\\nDocklands,800000.0,27/06/2016\\nMelbourne,432000.0,6/05/2017\\nMelbourne,1850000.0,8/04/2017\\nMelbourne,333000.0,8/04/2017\\nMelbourne,452000.0,13/05/2017\\nMelbourne,895000.0,22/04/2017\\nMelbourne,275000.0,22/04/2017\\nMelbourne,683000.0,22/04/2017\\nMelbourne,640000.0,22/04/2017\\nParkville,835000.0,6/05/2017\\nParkville,3970000.0,13/05/2017\\nParkville,2790000.0,20/05/2017\\nSouth Yarra,920000.0,13/05/2017\\nSouth Yarra,642000.0,13/05/2017\\nSouth Yarra,390500.0,29/04/2017\\nSouth Yarra,2050000.0,29/04/2017\\nCarlton,1520000.0,8/04/2017\\nCarlton,960000.0,20/05/2017\\nCarlton,995000.0,22/04/2017\\nCarlton,490000.0,29/04/2017\\nCarlton,500000.0,29/04/2017\\nEast Melbourne,503000.0,8/04/2017\\nEast Melbourne,810000.0,13/05/2017\\nEast Melbourne,4275000.0,20/05/2017\\nKensington,355000.0,8/04/2017\\nKensington,425000.0,8/04/2017\\nKensington,535000.0,8/04/2017\\nKensington,500000.0,8/04/2017\\nKensington,525000.0,13/05/2017\\nKensington,1110000.0,20/05/2017\\nKensington,917500.0,20/05/2017\\nKensington,730000.0,20/05/2017\\nKensington,811000.0,20/05/2017\\nKensington,1190000.0,20/05/2017\\nKensington,903000.0,22/04/2017\\nKensington,902500.0,22/04/2017\\nKensington,1817000.0,22/04/2017\\nKensington,528000.0,22/04/2017\\nKensington,1000000.0,29/04/2017\\nKensington,380000.0,29/04/2017\\nKensington,1817000.0,29/04/2017\\nNorth Melbourne,2161000.0,13/05/2017\\nNorth Melbourne,1485000.0,20/05/2017\\nNorth Melbourne,940000.0,29/04/2017\\nSouthbank,505000.0,8/04/2017\\nSouthbank,595000.0,8/04/2017\\nSouthbank,580000.0,8/04/2017\\nSouthbank,580000.0,13/05/2017\\nWest Melbourne,1750000.0,13/05/2017\\nWest Melbourne,1013000.0,20/05/2017\\nWest Melbourne,1171000.0,20/05/2017\\nWest Melbourne,1053000.0,22/04/2017\\nWest Melbourne,295000.0,29/04/2017\\nCarlton,350000.0,1/07/2017\\nCarlton,620000.0,1/07/2017\\nCarlton,1760000.0,1/07/2017\\nKensington,967000.0,1/07/2017\\nKensington,850000.0,1/07/2017\\nKensington,500000.0,1/07/2017\\nKensington,535000.0,1/07/2017\\nNorth Melbourne,550000.0,1/07/2017\\nNorth Melbourne,962000.0,1/07/2017\\nNorth Melbourne,936000.0,1/07/2017\\nKensington,855000.0,3/06/2017\\nKensington,990000.0,3/06/2017\\nNorth Melbourne,970000.0,3/06/2017\\nParkville,1770000.0,3/06/2017\\nSouth Yarra,2210000.0,3/06/2017\\nSouth Yarra,2400000.0,3/06/2017\\nSouthbank,422000.0,3/06/2017\\nSouthbank,590000.0,3/06/2017\\nWest Melbourne,792000.0,3/06/2017\\nEast Melbourne,1875000.0,17/06/2017\\nEast Melbourne,1350000.0,17/06/2017\\nKensington,1070000.0,17/06/2017\\nKensington,730000.0,17/06/2017\\nKensington,392000.0,17/06/2017\\nKensington,1150000.0,17/06/2017\\nKensington,1415000.0,17/06/2017\\nKensington,370000.0,17/06/2017\\nMelbourne,740000.0,17/06/2017\\nNorth Melbourne,1000000.0,17/06/2017\\nNorth Melbourne,780000.0,17/06/2017\\nNorth Melbourne,550000.0,17/06/2017\\nParkville,850000.0,17/06/2017\\nParkville,900000.0,17/06/2017\\nSouthbank,642500.0,17/06/2017\\nSouthbank,422500.0,17/06/2017\\nCarlton,1000000.0,24/06/2017\\nCarlton,720000.0,24/06/2017\\nEast Melbourne,885000.0,24/06/2017\\nKensington,1250000.0,24/06/2017\\nKensington,395000.0,24/06/2017\\nKensington,840500.0,24/06/2017\\nNorth Melbourne,570000.0,24/06/2017\\nNorth Melbourne,850000.0,24/06/2017\\nSouth Yarra,945000.0,24/06/2017\\nWest Melbourne,1370000.0,24/06/2017\\nCarlton,1100000.0,27/05/2017\\nKensington,400000.0,27/05/2017\\nKensington,715000.0,27/05/2017\\nMelbourne,720000.0,27/05/2017\\nNorth Melbourne,1126000.0,27/05/2017\\nNorth Melbourne,1746000.0,27/05/2017\\nNorth Melbourne,799000.0,27/05/2017\\nNorth Melbourne,1285000.0,27/05/2017\\nParkville,1560000.0,27/05/2017\\nSouthbank,600000.0,27/05/2017\\nSouthbank,600000.0,27/05/2017\\nWest Melbourne,660000.0,27/05/2017\\nKensington,438000.0,8/07/2017\\nKensington,710000.0,8/07/2017\\nKensington,390000.0,8/07/2017\\nMelbourne,1075000.0,8/07/2017\\nNorth Melbourne,785000.0,8/07/2017\\nNorth Melbourne,620000.0,8/07/2017\\nParkville,800000.0,8/07/2017\\nSouth Yarra,1855500.0,8/07/2017\\nWest Melbourne,670000.0,8/07/2017\\nWest Melbourne,510000.0,8/07/2017\\nEast Melbourne,1300000.0,12/08/2017\\nKensington,1225000.0,12/08/2017\\nNorth Melbourne,1475000.0,12/08/2017\\nNorth Melbourne,450000.0,12/08/2017\\nNorth Melbourne,525000.0,12/08/2017\\nSouth Yarra,1350000.0,12/08/2017\\nSouth Yarra,940000.0,12/08/2017\\nSouthbank,625000.0,12/08/2017\\nKensington,840000.0,15/07/2017\\nKensington,535000.0,15/07/2017\\nMelbourne,387000.0,15/07/2017\\nNorth Melbourne,541000.0,15/07/2017\\nWest Melbourne,380000.0,15/07/2017\\nWest Melbourne,1900000.0,15/07/2017\\nCarlton,920000.0,22/07/2017\\nEast Melbourne,895000.0,22/07/2017\\nNorth Melbourne,465000.0,22/07/2017\\nSouth Yarra,747500.0,22/07/2017\\nCarlton,920000.0,29/07/2017\\nKensington,445000.0,29/07/2017\\nKensington,501000.0,29/07/2017\\nKensington,1060000.0,29/07/2017\\nMelbourne,565000.0,29/07/2017\\nMelbourne,540000.0,29/07/2017\\nNorth Melbourne,681000.0,29/07/2017\\nNorth Melbourne,1803000.0,29/07/2017\\nSouthbank,732000.0,29/07/2017\\n'"
            ]
          },
          "metadata": {},
          "execution_count": 11
        }
      ],
      "source": [
        "# code goes here\n",
        "\n",
        "df_melbourn = df[df['CouncilArea'] == 'Melbourne']\n",
        "\n",
        "csv_for_council =  df_melbourn.to_csv(columns = ['Suburb', 'Price','Date'], index = False, header = True)\n",
        "\n",
        "csv_for_council\n"
      ]
    }
  ],
  "metadata": {
    "colab": {
      "collapsed_sections": [],
      "name": "329e_HW1.ipynb",
      "provenance": []
    },
    "kernelspec": {
      "display_name": "Python 3",
      "language": "python",
      "name": "python3"
    },
    "language_info": {
      "codemirror_mode": {
        "name": "ipython",
        "version": 3
      },
      "file_extension": ".py",
      "mimetype": "text/x-python",
      "name": "python",
      "nbconvert_exporter": "python",
      "pygments_lexer": "ipython3",
      "version": "3.8.8"
    }
  },
  "nbformat": 4,
  "nbformat_minor": 0
}