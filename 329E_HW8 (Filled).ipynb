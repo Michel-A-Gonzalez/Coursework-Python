{
  "cells": [
    {
      "cell_type": "markdown",
      "metadata": {
        "id": "Pc0-tdC10va6"
      },
      "source": [
        "## C S 329E HW7\n",
        "\n",
        "# Ensemble Methods and Skewed Data\n",
        "\n",
        "## Michel Gonzalez - mag9989\n",
        "\n",
        "For this week's homework we are going explore two ensemble methods:\n",
        "\n",
        "  - AdaBoost, and\n",
        "  - Random Forests\n",
        "  \n",
        "Along with applying different KPIs (key performance indicators) that are more appropriate to highly skewed data sets. \n",
        "\n",
        "The dataset contains transactions made by credit cards in September 2013 by european cardholders.\n",
        "This dataset presents transactions that occurred in two days, where we have 237 frauds out of 142,167 transactions. The dataset is highly unbalanced, the positive class (frauds) account for 0.17% of all transactions.\n",
        "\n",
        "It contains only numerical input variables which are the result of a [PCA transformation](https://en.wikipedia.org/wiki/Principal_component_analysis). Unfortunately, due to confidentiality issues, they cannot provide the original features and more background information about the data. Features V1, V2, … V28 are the principal components obtained with PCA, the only features which have not been transformed with PCA are 'Time' and 'Amount'. Feature 'Time' contains the seconds elapsed between each transaction and the first transaction in the dataset. The feature 'Amount' is the transaction Amount in Euros. Feature 'Class' is the response variable and it takes value 1 in case of fraud and 0 otherwise.\n",
        "\n",
        "At the end of this homework, I expect you to understand how to train and use ensemble classifiers, how to characterize model performance with ROC curves, and be familiar with the difference between accuracy, true positive rate, and positive predictive value. "
      ]
    },
    {
      "cell_type": "code",
      "execution_count": 1,
      "metadata": {
        "id": "AIIG_Qv30va_"
      },
      "outputs": [],
      "source": [
        "# These are the libraries you will use for this assignment, you may not import anything else\n",
        "import pandas as pd\n",
        "import numpy as np\n",
        "import matplotlib.pyplot as plt\n",
        "from sklearn.ensemble import AdaBoostClassifier\n",
        "from sklearn.ensemble import RandomForestClassifier\n",
        "from sklearn.model_selection import StratifiedKFold\n",
        "from sklearn.metrics import plot_roc_curve\n",
        "\n",
        "# This is the credit card data provided, we'll use sklearn methods to do cross validation\n",
        "# to estimate error\n",
        "df_cc = pd.read_csv('https://www.cs.utexas.edu/~chaney/cc.csv')"
      ]
    },
    {
      "cell_type": "markdown",
      "metadata": {
        "id": "sV8Lw-Xc0vbA"
      },
      "source": [
        "## Q1 Parition the data for cross validation\n",
        "\n",
        "Load the data, and split the data set into $X$ (the feature dataframe, `df_X`) and $y$ (the target series `s_y`). Define our partitions.  \n",
        "\n",
        "We know this is a _super_ skewed data set, so we worry about our target class being underrepresented in a random k-fold selection. With this in mind, we use a [stratifed k-fold](https://scikit-learn.org/stable/modules/generated/sklearn.model_selection.StratifiedKFold.html), since it will preserve our class balance in our experiements. Use $k=3$, . Instantiate an instance of the `StratifiedKFold` class, and use the generator `split` to populate the following dictonaries:\n",
        "   - `d_train_df_X` : where the key is the fold number, and the value is the attribute training dataframe at that fold\n",
        "   - `d_test_df_X`  : where the key is the fold number, and the value is the attribute test dataframe at that fold\n",
        "   - `d_train_s_y`  : where the key is the fold number, and the value is the target training series at that fold\n",
        "   - `d_train_s_y`  : where the key is the fold number, and the value is the target test series at that fold"
      ]
    },
    {
      "cell_type": "code",
      "execution_count": 2,
      "metadata": {
        "id": "3sHfNAci0vbA"
      },
      "outputs": [],
      "source": [
        "df_X = df_cc.drop(columns=['Class'])\n",
        "s_y = df_cc['Class']"
      ]
    },
    {
      "cell_type": "code",
      "execution_count": 3,
      "metadata": {
        "id": "p8K4LLES0vbB"
      },
      "outputs": [],
      "source": [
        "skf = StratifiedKFold(n_splits=3, shuffle=True, random_state=23)"
      ]
    },
    {
      "cell_type": "code",
      "execution_count": 4,
      "metadata": {
        "id": "xQYF1qLc0vbB"
      },
      "outputs": [],
      "source": [
        "d_train_df_X = dict()\n",
        "d_test_df_X = dict()\n",
        "d_train_s_y = dict()\n",
        "d_test_s_y = dict()\n",
        "\n",
        "# Your code here\n",
        "\n",
        "# use i to keep track of the fold number and\n",
        "# fills the dictionaries with the appropriate\n",
        "# data\n",
        "\n",
        "i = 1\n",
        "\n",
        "for train_index, test_index in skf.split(df_X, s_y):\n",
        "  \n",
        "    d_train_df_X[i] = df_X[df_X.index.isin(train_index)]\n",
        "    d_test_df_X[i] = df_X[df_X.index.isin(test_index)]\n",
        "    d_train_s_y[i] = s_y[s_y.index.isin(train_index)]\n",
        "    d_test_s_y[i] = s_y[s_y.index.isin(test_index)]\n",
        "\n",
        "    i+=1"
      ]
    },
    {
      "cell_type": "code",
      "execution_count": 5,
      "metadata": {
        "colab": {
          "base_uri": "https://localhost:8080/"
        },
        "id": "WKyVrDi30vbC",
        "outputId": "90c82dc9-ce81-4b2d-d3a4-85a8ac8465ab",
        "scrolled": true
      },
      "outputs": [
        {
          "output_type": "stream",
          "name": "stdout",
          "text": [
            "0    47389\n",
            "1       79\n",
            "Name: Class, dtype: int64\n",
            "0    47389\n",
            "1       79\n",
            "Name: Class, dtype: int64\n",
            "0    47389\n",
            "1       79\n",
            "Name: Class, dtype: int64\n"
          ]
        }
      ],
      "source": [
        "# Look at the test data and verify that the target training is equally distributed as possible\n",
        "for key in d_test_s_y.keys():\n",
        "    print(d_test_s_y[key].value_counts())"
      ]
    },
    {
      "cell_type": "markdown",
      "metadata": {
        "id": "RgKTCPZn0vbC"
      },
      "source": [
        "## Section 1 - AdaBoost"
      ]
    },
    {
      "cell_type": "markdown",
      "metadata": {
        "id": "aBiszvo40vbD"
      },
      "source": [
        "# Q2 Test the Performance of AdaBoost\n",
        "\n",
        "When we talked about AdaBoost in class, we used a collection of \"Decision Stumps\". In this assignment, we will use the implementation of [AdaBoost in Scikit-learn](https://scikit-learn.org/stable/modules/generated/sklearn.ensemble.AdaBoostClassifier.html).  As you browse the documentation, you will notice that the default base esimator in this implentation is a `DecisionTreeClassifier(max_depth=1)` (our friend the decision stump). \n",
        "\n",
        "After you fit an AdaBoost model, you can call the method `predict` to get a class prediction, or you can call `predict_proba` to get the probability of being in the class `0` or the class `1`. These probabilities are used when creating ROC curves. \n",
        "\n",
        "Loop over the $k$ folds using the dictionaries from the first problem, and for each fold calculate the accuracy, TPR, the PPV, and the FPR (feel free to create helper functions to calcuate these metrics - do not use a library function to compute these metrics).  Plot the ROC curve for each fold. You may use the [plot roc curve](https://scikit-learn.org/stable/modules/generated/sklearn.metrics.plot_roc_curve.html) from Scikit-learn.  There is a great example in the documentation [on plotting ROC curves in cross validation](https://scikit-learn.org/stable/auto_examples/model_selection/plot_roc_crossval.html) that is helpful.  \n",
        "\n",
        "When creating your AdaBoost classifier, please use the following parameters: \n",
        "`AdaBoostClassifier(n_estimators=25, random_state=23)`\n",
        "\n",
        "Save the predictions from the 3rd fold into a variable called `y_hat_ab` for use in a future problem.\n"
      ]
    },
    {
      "cell_type": "code",
      "execution_count": 6,
      "metadata": {
        "id": "1CH_Ec9G0vbD"
      },
      "outputs": [],
      "source": [
        "k = 3\n",
        "acc_ab = np.zeros(k)\n",
        "tpr_ab = np.zeros(k)\n",
        "ppv_ab = np.zeros(k)\n",
        "fpr_ab = np.zeros(k)"
      ]
    },
    {
      "cell_type": "code",
      "execution_count": 7,
      "metadata": {
        "colab": {
          "base_uri": "https://localhost:8080/",
          "height": 419
        },
        "id": "3pE-HrIv0vbE",
        "outputId": "fe034df1-64db-469e-a6ee-567206c6da96"
      },
      "outputs": [
        {
          "output_type": "stream",
          "name": "stderr",
          "text": [
            "/usr/local/lib/python3.7/dist-packages/sklearn/utils/deprecation.py:87: FutureWarning: Function plot_roc_curve is deprecated; Function :func:`plot_roc_curve` is deprecated in 1.0 and will be removed in 1.2. Use one of the class methods: :meth:`sklearn.metric.RocCurveDisplay.from_predictions` or :meth:`sklearn.metric.RocCurveDisplay.from_estimator`.\n",
            "  warnings.warn(msg, category=FutureWarning)\n",
            "/usr/local/lib/python3.7/dist-packages/sklearn/utils/deprecation.py:87: FutureWarning: Function plot_roc_curve is deprecated; Function :func:`plot_roc_curve` is deprecated in 1.0 and will be removed in 1.2. Use one of the class methods: :meth:`sklearn.metric.RocCurveDisplay.from_predictions` or :meth:`sklearn.metric.RocCurveDisplay.from_estimator`.\n",
            "  warnings.warn(msg, category=FutureWarning)\n",
            "/usr/local/lib/python3.7/dist-packages/sklearn/utils/deprecation.py:87: FutureWarning: Function plot_roc_curve is deprecated; Function :func:`plot_roc_curve` is deprecated in 1.0 and will be removed in 1.2. Use one of the class methods: :meth:`sklearn.metric.RocCurveDisplay.from_predictions` or :meth:`sklearn.metric.RocCurveDisplay.from_estimator`.\n",
            "  warnings.warn(msg, category=FutureWarning)\n"
          ]
        },
        {
          "output_type": "display_data",
          "data": {
            "text/plain": [
              "<Figure size 432x288 with 1 Axes>"
            ],
            "image/png": "[encoded data removed]"
          },
          "metadata": {
            "needs_background": "light"
          }
        }
      ],
      "source": [
        "# your code here\n",
        "\n",
        "fig, ax = plt.subplots()\n",
        "\n",
        "for i in range(1, k + 1):\n",
        "\n",
        "  actual = np.array(d_test_s_y[i])\n",
        "\n",
        "  clf_ada = AdaBoostClassifier(n_estimators=25, random_state=23)\n",
        "\n",
        "  clf_ada = clf_ada.fit(d_train_df_X[i], d_train_s_y[i])\n",
        "\n",
        "  expected_ada = clf_ada.predict(d_test_df_X[i])\n",
        "\n",
        "  # total number of positives in expected\n",
        "\n",
        "  tp_ada = 0\n",
        "\n",
        "  tn_ada = 0\n",
        "\n",
        "  # Accuracy\n",
        "\n",
        "  acc_ada = sum(expected_ada == actual) / len(actual)\n",
        "\n",
        "  acc_ab[i - 1] = acc_ada\n",
        "\n",
        "  # TPR = tp/(tp + fn)\n",
        "\n",
        "  # I can use tn to find the the number of false positive \n",
        "  # by summing all the expected postives and finding the total\n",
        "  # I subtracting it by the number of true positives\n",
        "  # fp = Tp - tp, where Tp is total positives\n",
        "  # similarly we can find the number of false negative\n",
        "  # by subtracting the number of true negatives from the total number\n",
        "  # of negatives\n",
        "  # fn = Tn  - tn, where Tn is total number of negative predicitons\n",
        "\n",
        "  for j in range(0, len(actual)):\n",
        "\n",
        "    # finds the counts of true positives\n",
        "    \n",
        "    if(expected_ada[j] == 1 & actual[j] == 1):\n",
        "      \n",
        "      tp_ada += 1\n",
        "\n",
        "    elif(expected_ada[j] == 0 & actual[j] == 0):\n",
        "\n",
        "      tn_ada += 1  \n",
        "\n",
        "  Tn_ada = sum(expected_ada == 0)\n",
        "\n",
        "  fn_ada = Tn_ada - tn_ada\n",
        "\n",
        "  tpr_ada = tp_ada / (tp_ada + fn_ada)\n",
        "\n",
        "  tpr_ab[i - 1] = tpr_ada\n",
        "\n",
        "  # PPV\n",
        "\n",
        "  fp_ada = sum(expected_ada == 1) - tp_ada\n",
        "\n",
        "  ppv_ada = tp_ada / (tp_ada + fp_ada)\n",
        "\n",
        "  ppv_ab[i - 1] = ppv_ada\n",
        "\n",
        "  # FPR\n",
        "\n",
        "  fpr_ada = fp_ada / (fp_ada + tn_ada)\n",
        "\n",
        "  fpr_ab[i - 1] = fpr_ada\n",
        "\n",
        "  # grabs the third fold predicited data\n",
        "\n",
        "  if (i == 3):\n",
        "\n",
        "    y_hat_ab = expected_ada\n",
        "\n",
        "  # plots the ROC plots for eahc fold\n",
        "  \n",
        "  viz = plot_roc_curve(\n",
        "        clf_ada,\n",
        "        d_test_df_X[i],\n",
        "        d_test_s_y[i],\n",
        "        name=\"ROC fold {}\".format(i),\n",
        "        alpha=0.3,\n",
        "        lw=1,\n",
        "        ax=ax,\n",
        "    )\n",
        "\n",
        "ax.set(\n",
        "    xlim=[-0.05, 1.05],\n",
        "    ylim=[-0.05, 1.05],\n",
        "    title=\"ROC for AdaBoost on Credit Card Fraud\",\n",
        ")\n",
        "\n",
        "ax.plot([0, 1], [0, 1], linestyle=\"--\", lw=2, color=\"r\", label=\"Chance\", alpha=0.8)\n",
        "\n",
        "ax.legend(loc=\"lower right\")\n",
        "\n",
        "plt.show()"
      ]
    },
    {
      "cell_type": "code",
      "execution_count": 8,
      "metadata": {
        "colab": {
          "base_uri": "https://localhost:8080/"
        },
        "id": "TbQKtc_K0vbE",
        "outputId": "2f15bab3-e346-4fde-b04d-1ce8c787600c"
      },
      "outputs": [
        {
          "output_type": "stream",
          "name": "stdout",
          "text": [
            "The min, mean, and max TPR are: 1.00, 1.00, and 1.00\n",
            "The min, mean, and max PPV are: 0.75, 0.79, and 0.82\n",
            "The min, mean, and max ACC are: 1.00, 1.00, and 1.00\n"
          ]
        }
      ],
      "source": [
        "print('The min, mean, and max TPR are: {:.2f}, {:.2f}, and {:.2f}'.format(tpr_ab.min(), tpr_ab.mean(), tpr_ab.max()))\n",
        "print('The min, mean, and max PPV are: {:.2f}, {:.2f}, and {:.2f}'.format(ppv_ab.min(), ppv_ab.mean(), ppv_ab.max()))\n",
        "print('The min, mean, and max ACC are: {:.2f}, {:.2f}, and {:.2f}'.format(acc_ab.min(), acc_ab.mean(), acc_ab.max()))"
      ]
    },
    {
      "cell_type": "markdown",
      "metadata": {
        "id": "6B3UIBCC0vbE"
      },
      "source": [
        "## Q3 Test the Performance of Random Forests\n",
        "\n",
        "Now, let's try another ensemble method: Random Forests, again using the [Scikit-learn implementation](https://scikit-learn.org/stable/modules/generated/sklearn.ensemble.RandomForestClassifier.html). \n",
        "\n",
        "Following our book, we will build complete trees, with no pruning.  That means every leaf in the tree will be completelely pure, and if you exam an individual Decision Tree it would be overtrained to our training set.  While building the decision trees, at every internal node, we select $p$ attributes at random, and then find the best split that minimizes impurtity.  The value, $p$, is a hyperparamter of the Random Forest and corresponds to the `max_features` parameter in the Random Forest Class. \n",
        "\n",
        "After you fit an RandomForest model, you can call the method `predict` to get a class prediction, or you can call `predict_proba` to get the probability of being in the class `0` or the class `1`. These probabilities are used when creating ROC curves. \n",
        "\n",
        "Loop over the $k$ folds using the dictionaries from the first problem, and for each fold calculate the accuracy, TPR, the PPV, and the FPR (feel free to reuse the functions that you already wrote to calculate these values - do not use a library function to compute these metrics).  Plot the ROC curve for each fold. You may use the [plot roc curve](https://scikit-learn.org/stable/modules/generated/sklearn.metrics.plot_roc_curve.html) from Scikit-learn. There is a great example in the documentation [on plotting ROC curves in cross validation](https://scikit-learn.org/stable/auto_examples/model_selection/plot_roc_crossval.html) that is helpful.  \n",
        "\n",
        "When creating your Random Forest classifier, please use the following parameters: \n",
        "`RandomForestClassifier(criterion=\"entropy\", max_features=\"sqrt\", random_state=23)`\n",
        "\n",
        "Save the predictions from the 3rd fold into a variable called `y_hat_rf` for use in a future problem."
      ]
    },
    {
      "cell_type": "code",
      "execution_count": 9,
      "metadata": {
        "id": "knZax5_10vbE"
      },
      "outputs": [],
      "source": [
        "k = 3\n",
        "acc_rf = np.zeros(k)\n",
        "tpr_rf = np.zeros(k)\n",
        "ppv_rf = np.zeros(k)\n",
        "fpr_rf = np.zeros(k)"
      ]
    },
    {
      "cell_type": "code",
      "execution_count": 10,
      "metadata": {
        "id": "SL-uXnC10vbF",
        "colab": {
          "base_uri": "https://localhost:8080/",
          "height": 419
        },
        "outputId": "3bc46975-101e-45be-d7cb-18c2a50cb458"
      },
      "outputs": [
        {
          "output_type": "stream",
          "name": "stderr",
          "text": [
            "/usr/local/lib/python3.7/dist-packages/sklearn/utils/deprecation.py:87: FutureWarning: Function plot_roc_curve is deprecated; Function :func:`plot_roc_curve` is deprecated in 1.0 and will be removed in 1.2. Use one of the class methods: :meth:`sklearn.metric.RocCurveDisplay.from_predictions` or :meth:`sklearn.metric.RocCurveDisplay.from_estimator`.\n",
            "  warnings.warn(msg, category=FutureWarning)\n",
            "/usr/local/lib/python3.7/dist-packages/sklearn/utils/deprecation.py:87: FutureWarning: Function plot_roc_curve is deprecated; Function :func:`plot_roc_curve` is deprecated in 1.0 and will be removed in 1.2. Use one of the class methods: :meth:`sklearn.metric.RocCurveDisplay.from_predictions` or :meth:`sklearn.metric.RocCurveDisplay.from_estimator`.\n",
            "  warnings.warn(msg, category=FutureWarning)\n",
            "/usr/local/lib/python3.7/dist-packages/sklearn/utils/deprecation.py:87: FutureWarning: Function plot_roc_curve is deprecated; Function :func:`plot_roc_curve` is deprecated in 1.0 and will be removed in 1.2. Use one of the class methods: :meth:`sklearn.metric.RocCurveDisplay.from_predictions` or :meth:`sklearn.metric.RocCurveDisplay.from_estimator`.\n",
            "  warnings.warn(msg, category=FutureWarning)\n"
          ]
        },
        {
          "output_type": "display_data",
          "data": {
            "text/plain": [
              "<Figure size 432x288 with 1 Axes>"
            ],
            "image/png": "[encoded data removed]"
          },
          "metadata": {
            "needs_background": "light"
          }
        }
      ],
      "source": [
        "# your code here\n",
        "fig, ax = plt.subplots()\n",
        "\n",
        "# \n",
        "for i in range(1, k + 1):\n",
        "\n",
        "  actual = np.array(d_test_s_y[i])\n",
        "\n",
        "  clf_ran = RandomForestClassifier(criterion=\"entropy\", max_features=\"sqrt\", random_state=23)\n",
        "\n",
        "  clf_ran = clf_ran.fit(d_train_df_X[i], d_train_s_y[i])\n",
        "\n",
        "  expected_ran = clf_ran.predict(d_test_df_X[i])\n",
        "\n",
        "  # total number of positives in expected\n",
        "\n",
        "  tp_ran = 0\n",
        "\n",
        "  tn_ran = 0\n",
        "\n",
        "  # Accuracy\n",
        "\n",
        "  acc_ran = sum(expected_ran == actual) / len(actual)\n",
        "\n",
        "  acc_rf[i - 1] = acc_ran\n",
        "\n",
        "  # TPR = tp/(tp + fn)\n",
        "\n",
        "  for j in range(0, len(actual)):\n",
        "\n",
        "    # finds the counts of true positives\n",
        "    \n",
        "    if(expected_ran[j] == 1 & actual[j] == 1):\n",
        "      \n",
        "      tp_ran += 1\n",
        "\n",
        "    elif(expected_ran[j] == 0 & actual[j] == 0):\n",
        "\n",
        "      tn_ran += 1  \n",
        "\n",
        "  Tn_ran = sum(expected_ran == 0)\n",
        "\n",
        "  fn_ran = Tn_ran - tn_ran\n",
        "\n",
        "  tpr_ran = tp_ran / (tp_ran + fn_ran)\n",
        "\n",
        "  tpr_rf[i - 1] = tpr_ran\n",
        "\n",
        "  # PPV\n",
        "\n",
        "  fp_ran = sum(expected_ran == 1) - tp_ran\n",
        "\n",
        "  ppv_ran = tp_ran / (tp_ran + fp_ran)\n",
        "\n",
        "  ppv_rf[i - 1] = ppv_ran\n",
        "\n",
        "  # FPR\n",
        "\n",
        "  fpr_ran = fp_ran / (fp_ran + tn_ran)\n",
        "\n",
        "  fpr_rf[i - 1] = fpr_ran\n",
        "\n",
        "  if (i == 3):\n",
        "\n",
        "    y_hat_rf = expected_ran\n",
        "  \n",
        "  viz = plot_roc_curve(\n",
        "        clf_ran,\n",
        "        d_test_df_X[i],\n",
        "        d_test_s_y[i],\n",
        "        name=\"ROC fold {}\".format(i),\n",
        "        alpha=0.3,\n",
        "        lw=1,\n",
        "        ax=ax,\n",
        "    )\n",
        "\n",
        "ax.set(\n",
        "    xlim=[-0.05, 1.05],\n",
        "    ylim=[-0.05, 1.05],\n",
        "    title=\"ROC for Random Forest on Credit Card Fraud\",\n",
        ")\n",
        "\n",
        "ax.plot([0, 1], [0, 1], linestyle=\"--\", lw=2, color=\"r\", alpha=0.8)\n",
        "\n",
        "ax.legend(loc=\"lower right\")\n",
        "\n",
        "plt.show()"
      ]
    },
    {
      "cell_type": "code",
      "execution_count": 11,
      "metadata": {
        "id": "d5Drp2A20vbF",
        "colab": {
          "base_uri": "https://localhost:8080/"
        },
        "outputId": "49caba3c-ca41-49b0-9aeb-0ae4c098eb11"
      },
      "outputs": [
        {
          "output_type": "stream",
          "name": "stdout",
          "text": [
            "The min, mean, and max TPR are: 1.00, 1.00, and 1.00\n",
            "The min, mean, and max PPV are: 0.92, 0.93, and 0.95\n",
            "The min, mean, and max ACC are: 1.00, 1.00, and 1.00\n"
          ]
        }
      ],
      "source": [
        "print('The min, mean, and max TPR are: {:.2f}, {:.2f}, and {:.2f}'.format(tpr_rf.min(), tpr_rf.mean(), tpr_rf.max()))\n",
        "print('The min, mean, and max PPV are: {:.2f}, {:.2f}, and {:.2f}'.format(ppv_rf.min(), ppv_rf.mean(), ppv_rf.max()))\n",
        "print('The min, mean, and max ACC are: {:.2f}, {:.2f}, and {:.2f}'.format(acc_rf.min(), acc_rf.mean(), acc_rf.max()))"
      ]
    },
    {
      "cell_type": "markdown",
      "metadata": {
        "id": "1XU70_Mf0vbF"
      },
      "source": [
        "# Q4 Calculate the Cost of Fraud \n",
        "\n",
        "In the above problems, we saved the predictions of the 3rd fold into the variables `y_hat_ab` and `y_hat_rf` for the AdaBoost and RandomForest models respectively. \n",
        "\n",
        "Now, Mr. Bank Man wants you to tell him how much money he is going to save if he deploys either of these fraud algorithms to the real-time payment processing system.  Assume that there is not a currently deployed fraud detection algorithm.  \n",
        "\n",
        "For every fraudulent transaction that is not predicted as fraudulent the bank looses twice the value of the transaction.  So, if a fradulent charge for €10 is undectected, it costs the bank €20.  Also, if a charge is predicted as fradulent, but wasn't, it costs the bank a flat fee of €3 in customer service support to communicate with the customer, and mark the possible fraud as a normal transaction. \n",
        "\n",
        "Using the 3rd fold test sample, calculate how much money Mr Bank Man will save by deploying each algorithm, and make a recommendation of which algorithm to deploy to production.  To calculate savings to the bank, you must first calculate the cost of the status quo, which is having no algorithm deployed. "
      ]
    },
    {
      "cell_type": "code",
      "execution_count": 12,
      "metadata": {
        "id": "i5hYCvdK0vbF",
        "colab": {
          "base_uri": "https://localhost:8080/"
        },
        "outputId": "a302559e-1844-43f7-9a9d-a6044f1dc7b4"
      },
      "outputs": [
        {
          "output_type": "stream",
          "name": "stdout",
          "text": [
            "$-20560.42 Boosted algorithm\n",
            "$-13481.55 Random Forests algorithm\n"
          ]
        }
      ],
      "source": [
        "# calculates Mr Banks loss with no algorithm \n",
        "# meaning all frauds went through.\n",
        "\n",
        "actual = d_test_s_y[2]\n",
        "\n",
        "df_fruads = df_cc[df_cc.index.isin(actual.index)]\n",
        "\n",
        "df_fruads = df_fruads[df_fruads['Class'] == 1]\n",
        "\n",
        "# sums the amount that is lost through fraud\n",
        "\n",
        "total_loss = sum(df_fruads['Amount']) * 2\n",
        "\n",
        "# calcs the losses for false positives\n",
        "\n",
        "# I will use dataframe tools to see which\n",
        "# algorithm is saving Mr.Bank more money\n",
        "\n",
        "# We get a dataframe with only the indecies of our test\n",
        "# data since we use the predicted classes from each\n",
        "# algorithm and comapre them to the original class\n",
        "\n",
        "df_anti_fraud = df_cc[df_cc.index.isin(actual.index)]\n",
        "\n",
        "# we keep the amount and class fields only and throw\n",
        "# away everything else\n",
        "\n",
        "df_anti_fraud = df_anti_fraud[['Amount','Class']]\n",
        "\n",
        "# now adds the two predicted arrays of classes to\n",
        "# the dataframe\n",
        "\n",
        "df_anti_fraud['Boost'] = np.array(y_hat_ab)\n",
        "\n",
        "df_anti_fraud['Forest'] = np.array(y_hat_rf)\n",
        "\n",
        "# separates the data into false positives and true positives\n",
        "# then we just need the number of false positives and multiply\n",
        "# by three due to the flat fee, and also sum the amount from\n",
        "# the ture postives to see how much money was not lost\n",
        "\n",
        "df_boost_wrong = df_anti_fraud[(df_anti_fraud['Boost'] == 1) & (df_anti_fraud['Class'] == 0)]\n",
        "\n",
        "df_boost_right = df_anti_fraud[(df_anti_fraud['Boost'] == 1) & (df_anti_fraud['Class'] == 1)]\n",
        "\n",
        "df_forest_wrong = df_anti_fraud[(df_anti_fraud['Forest'] == 1) & (df_anti_fraud['Class'] == 0)]\n",
        "\n",
        "df_forest_right = df_anti_fraud[(df_anti_fraud['Forest'] == 1) & (df_anti_fraud['Class'] == 0)]\n",
        "\n",
        "# gets the fees paid for wrong predicitions \n",
        "# and sums the amount saved from right predicitons\n",
        "\n",
        "boost_wrong = len(df_boost_wrong['Amount']) * 3\n",
        "\n",
        "boost_right = sum(df_boost_right['Amount'])\n",
        "\n",
        "forest_wrong = len(df_forest_wrong['Amount']) * 3\n",
        "\n",
        "forest_right = sum(df_forest_right['Amount'])\n",
        "\n",
        "total_saved_boost = boost_right - boost_wrong\n",
        "\n",
        "total_saved_forest = forest_right - forest_wrong\n",
        "\n",
        "print('$' + str(format(total_saved_boost - total_loss, '.2f')), 'Boosted algorithm')\n",
        "\n",
        "print('$' + str(format(total_saved_forest - total_loss, '.2f')), 'Random Forests algorithm')\n"
      ]
    },
    {
      "cell_type": "markdown",
      "metadata": {
        "id": "6x_Zz5Hs0vbF"
      },
      "source": [
        "➡️ YOUR ANSWER HERE Mr Bank man will lose less money, if we deploy the Random Forests algorithm! YOUR ANSWER HERE ⬅️"
      ]
    },
    {
      "cell_type": "markdown",
      "source": [
        "##Citations##\n",
        "\n",
        "Andrea Dal Pozzolo, Olivier Caelen, Reid A. Johnson and Gianluca Bontempi. Calibrating Probability with Undersampling for Unbalanced Classification. (Links to an external site.) In Symposium on Computational Intelligence and Data Mining (CIDM), IEEE, 2015\n",
        "\n",
        "Dal Pozzolo, Andrea; Caelen, Olivier; Le Borgne, Yann-Ael; Waterschoot, Serge; Bontempi, Gianluca. Learned lessons in credit card fraud detection from a practitioner perspective (Links to an external site.), Expert systems with applications,41,10,4915-4928,2014, Pergamon\n",
        "\n",
        "Dal Pozzolo, Andrea; Boracchi, Giacomo; Caelen, Olivier; Alippi, Cesare; Bontempi, Gianluca. Credit card fraud detection: a realistic modeling and a novel learning strategy, (Links to an external site.) IEEE transactions on neural networks and learning systems,29,8,3784-3797,2018,IEEE\n",
        "\n",
        "Dal Pozzolo, Andrea Adaptive Machine learning for credit card fraud detection (Links to an external site.) ULB MLG PhD thesis (supervised by G. Bontempi)\n",
        "\n",
        "Carcillo, Fabrizio; Dal Pozzolo, Andrea; Le Borgne, Yann-Aël; Caelen, Olivier; Mazzer, Yannis; Bontempi, Gianluca. Scarff: a scalable framework for streaming credit card fraud detection with Spark (Links to an external site.), Information fusion,41, 182-194,2018,Elsevier\n",
        "\n",
        "Carcillo, Fabrizio; Le Borgne, Yann-Aël; Caelen, Olivier; Bontempi, Gianluca. Streaming active learning strategies for real-life credit card fraud detection: assessment and visualization, (Links to an external site.) International Journal of Data Science and Analytics, 5,4,285-300,2018,Springer International Publishing\n",
        "\n",
        "Bertrand Lebichot, Yann-Aël Le Borgne, Liyun He, Frederic Oblé, Gianluca Bontempi Deep-Learning Domain Adaptation Techniques for Credit Cards Fraud Detection (Links to an external site.), INNSBDDL 2019: Recent Advances in Big Data and Deep Learning, pp 78-88, 2019\n",
        "\n",
        "Fabrizio Carcillo, Yann-Aël Le Borgne, Olivier Caelen, Frederic Oblé, Gianluca Bontempi Combining Unsupervised and Supervised Learning in Credit Card Fraud Detection  (Links to an external site.)Information Sciences, 2019"
      ],
      "metadata": {
        "id": "qXBlYnCbnfz5"
      }
    }
  ],
  "metadata": {
    "colab": {
      "collapsed_sections": [],
      "name": "CS329E_HW8.ipynb",
      "provenance": []
    },
    "kernelspec": {
      "display_name": "Python 3",
      "language": "python",
      "name": "python3"
    },
    "language_info": {
      "codemirror_mode": {
        "name": "ipython",
        "version": 3
      },
      "file_extension": ".py",
      "mimetype": "text/x-python",
      "name": "python",
      "nbconvert_exporter": "python",
      "pygments_lexer": "ipython3",
      "version": "3.8.3"
    }
  },
  "nbformat": 4,
  "nbformat_minor": 0
}