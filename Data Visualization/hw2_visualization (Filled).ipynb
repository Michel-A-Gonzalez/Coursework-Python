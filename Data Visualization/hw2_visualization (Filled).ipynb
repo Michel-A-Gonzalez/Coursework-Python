{
  "cells": [
    {
      "cell_type": "markdown",
      "metadata": {
        "id": "TV-1nx9Eup_x"
      },
      "source": [
        "# UFO report by < mag9989 \\>\n",
        "Modify this cell by placing your eid in the space above. "
      ]
    },
    {
      "cell_type": "markdown",
      "metadata": {
        "id": "Ac5HSj0Bup_0"
      },
      "source": [
        "## Homework 1\n",
        "You are a UFO researcher and have just obtained some **TOP SECRET** government data. The data contain sighting information including location, shape and source of the information. Use your pandas skills to investigate the data. Turn in this notebook as your report. Follow the directions and answer the questions. Edit the code cells to create pandas and matplotlib solutions to the questions. The first cell loads the data into a data frame called `df_sightings`. The rest is up to you.\n",
        "\n",
        "The truth is out there..."
      ]
    },
    {
      "cell_type": "code",
      "execution_count": 1,
      "metadata": {
        "colab": {
          "base_uri": "https://localhost:8080/",
          "height": 423
        },
        "id": "AotIjqPbup_2",
        "outputId": "4f24aa59-c27d-49a6-faf3-95031ab56211"
      },
      "outputs": [
        {
          "output_type": "execute_result",
          "data": {
            "text/html": [
              "\n",
              "  <div id=\"df-f1713dc7-1bd6-4587-a946-92e467968467\">\n",
              "    <div class=\"colab-df-container\">\n",
              "      <div>\n",
              "<style scoped>\n",
              "    .dataframe tbody tr th:only-of-type {\n",
              "        vertical-align: middle;\n",
              "    }\n",
              "\n",
              "    .dataframe tbody tr th {\n",
              "        vertical-align: top;\n",
              "    }\n",
              "\n",
              "    .dataframe thead th {\n",
              "        text-align: right;\n",
              "    }\n",
              "</style>\n",
              "<table border=\"1\" class=\"dataframe\">\n",
              "  <thead>\n",
              "    <tr style=\"text-align: right;\">\n",
              "      <th></th>\n",
              "      <th>Event.Date</th>\n",
              "      <th>Shape</th>\n",
              "      <th>Location</th>\n",
              "      <th>State</th>\n",
              "      <th>Country</th>\n",
              "      <th>Source</th>\n",
              "    </tr>\n",
              "  </thead>\n",
              "  <tbody>\n",
              "    <tr>\n",
              "      <th>0</th>\n",
              "      <td>6/18/16</td>\n",
              "      <td>Boomerang/V-Shaped</td>\n",
              "      <td>South Barrington</td>\n",
              "      <td>IL</td>\n",
              "      <td>USA</td>\n",
              "      <td>NUFORC</td>\n",
              "    </tr>\n",
              "    <tr>\n",
              "      <th>1</th>\n",
              "      <td>6/17/16</td>\n",
              "      <td>Boomerang/V-Shaped</td>\n",
              "      <td>Kuna</td>\n",
              "      <td>ID</td>\n",
              "      <td>USA</td>\n",
              "      <td>NUFORC</td>\n",
              "    </tr>\n",
              "    <tr>\n",
              "      <th>2</th>\n",
              "      <td>5/30/16</td>\n",
              "      <td>Boomerang/V-Shaped</td>\n",
              "      <td>Lake Stevens</td>\n",
              "      <td>WA</td>\n",
              "      <td>USA</td>\n",
              "      <td>NUFORC</td>\n",
              "    </tr>\n",
              "    <tr>\n",
              "      <th>3</th>\n",
              "      <td>5/27/16</td>\n",
              "      <td>Boomerang/V-Shaped</td>\n",
              "      <td>Gerber</td>\n",
              "      <td>CA</td>\n",
              "      <td>USA</td>\n",
              "      <td>NUFORC</td>\n",
              "    </tr>\n",
              "    <tr>\n",
              "      <th>4</th>\n",
              "      <td>5/24/16</td>\n",
              "      <td>Boomerang/V-Shaped</td>\n",
              "      <td>Camdenton</td>\n",
              "      <td>MO</td>\n",
              "      <td>USA</td>\n",
              "      <td>NUFORC</td>\n",
              "    </tr>\n",
              "    <tr>\n",
              "      <th>...</th>\n",
              "      <td>...</td>\n",
              "      <td>...</td>\n",
              "      <td>...</td>\n",
              "      <td>...</td>\n",
              "      <td>...</td>\n",
              "      <td>...</td>\n",
              "    </tr>\n",
              "    <tr>\n",
              "      <th>3641</th>\n",
              "      <td>11/2/15</td>\n",
              "      <td>Unknown</td>\n",
              "      <td>Phnom Penh</td>\n",
              "      <td>NaN</td>\n",
              "      <td>Cambodia</td>\n",
              "      <td>NUFORC</td>\n",
              "    </tr>\n",
              "    <tr>\n",
              "      <th>3642</th>\n",
              "      <td>4/15/15</td>\n",
              "      <td>Unknown</td>\n",
              "      <td>Hemel Hempstead</td>\n",
              "      <td>NaN</td>\n",
              "      <td>England/UK</td>\n",
              "      <td>NUFORC</td>\n",
              "    </tr>\n",
              "    <tr>\n",
              "      <th>3643</th>\n",
              "      <td>1/2/05</td>\n",
              "      <td>Unknown</td>\n",
              "      <td>Manat</td>\n",
              "      <td>NaN</td>\n",
              "      <td>Puerto Rico</td>\n",
              "      <td>NUFORC</td>\n",
              "    </tr>\n",
              "    <tr>\n",
              "      <th>3644</th>\n",
              "      <td>5/4/88</td>\n",
              "      <td>Unknown</td>\n",
              "      <td>Bounty (the ship)</td>\n",
              "      <td>NaN</td>\n",
              "      <td>NaN</td>\n",
              "      <td>NUFORC</td>\n",
              "    </tr>\n",
              "    <tr>\n",
              "      <th>3645</th>\n",
              "      <td>11/15/78</td>\n",
              "      <td>Unknown</td>\n",
              "      <td>NaN</td>\n",
              "      <td>NaN</td>\n",
              "      <td>Tonga</td>\n",
              "      <td>NUFORC</td>\n",
              "    </tr>\n",
              "  </tbody>\n",
              "</table>\n",
              "<p>3646 rows × 6 columns</p>\n",
              "</div>\n",
              "      <button class=\"colab-df-convert\" onclick=\"convertToInteractive('df-f1713dc7-1bd6-4587-a946-92e467968467')\"\n",
              "              title=\"Convert this dataframe to an interactive table.\"\n",
              "              style=\"display:none;\">\n",
              "        \n",
              "  <svg xmlns=\"http://www.w3.org/2000/svg\" height=\"24px\"viewBox=\"0 0 24 24\"\n",
              "       width=\"24px\">\n",
              "    <path d=\"M0 0h24v24H0V0z\" fill=\"none\"/>\n",
              "    <path d=\"M18.56 5.44l.94 2.06.94-2.06 2.06-.94-2.06-.94-.94-2.06-.94 2.06-2.06.94zm-11 1L8.5 8.5l.94-2.06 2.06-.94-2.06-.94L8.5 2.5l-.94 2.06-2.06.94zm10 10l.94 2.06.94-2.06 2.06-.94-2.06-.94-.94-2.06-.94 2.06-2.06.94z\"/><path d=\"M17.41 7.96l-1.37-1.37c-.4-.4-.92-.59-1.43-.59-.52 0-1.04.2-1.43.59L10.3 9.45l-7.72 7.72c-.78.78-.78 2.05 0 2.83L4 21.41c.39.39.9.59 1.41.59.51 0 1.02-.2 1.41-.59l7.78-7.78 2.81-2.81c.8-.78.8-2.07 0-2.86zM5.41 20L4 18.59l7.72-7.72 1.47 1.35L5.41 20z\"/>\n",
              "  </svg>\n",
              "      </button>\n",
              "      \n",
              "  <style>\n",
              "    .colab-df-container {\n",
              "      display:flex;\n",
              "      flex-wrap:wrap;\n",
              "      gap: 12px;\n",
              "    }\n",
              "\n",
              "    .colab-df-convert {\n",
              "      background-color: #E8F0FE;\n",
              "      border: none;\n",
              "      border-radius: 50%;\n",
              "      cursor: pointer;\n",
              "      display: none;\n",
              "      fill: #1967D2;\n",
              "      height: 32px;\n",
              "      padding: 0 0 0 0;\n",
              "      width: 32px;\n",
              "    }\n",
              "\n",
              "    .colab-df-convert:hover {\n",
              "      background-color: #E2EBFA;\n",
              "      box-shadow: 0px 1px 2px rgba(60, 64, 67, 0.3), 0px 1px 3px 1px rgba(60, 64, 67, 0.15);\n",
              "      fill: #174EA6;\n",
              "    }\n",
              "\n",
              "    [theme=dark] .colab-df-convert {\n",
              "      background-color: #3B4455;\n",
              "      fill: #D2E3FC;\n",
              "    }\n",
              "\n",
              "    [theme=dark] .colab-df-convert:hover {\n",
              "      background-color: #434B5C;\n",
              "      box-shadow: 0px 1px 3px 1px rgba(0, 0, 0, 0.15);\n",
              "      filter: drop-shadow(0px 1px 2px rgba(0, 0, 0, 0.3));\n",
              "      fill: #FFFFFF;\n",
              "    }\n",
              "  </style>\n",
              "\n",
              "      <script>\n",
              "        const buttonEl =\n",
              "          document.querySelector('#df-f1713dc7-1bd6-4587-a946-92e467968467 button.colab-df-convert');\n",
              "        buttonEl.style.display =\n",
              "          google.colab.kernel.accessAllowed ? 'block' : 'none';\n",
              "\n",
              "        async function convertToInteractive(key) {\n",
              "          const element = document.querySelector('#df-f1713dc7-1bd6-4587-a946-92e467968467');\n",
              "          const dataTable =\n",
              "            await google.colab.kernel.invokeFunction('convertToInteractive',\n",
              "                                                     [key], {});\n",
              "          if (!dataTable) return;\n",
              "\n",
              "          const docLinkHtml = 'Like what you see? Visit the ' +\n",
              "            '<a target=\"_blank\" href=https://colab.research.google.com/notebooks/data_table.ipynb>data table notebook</a>'\n",
              "            + ' to learn more about interactive tables.';\n",
              "          element.innerHTML = '';\n",
              "          dataTable['output_type'] = 'display_data';\n",
              "          await google.colab.output.renderOutput(dataTable, element);\n",
              "          const docLink = document.createElement('div');\n",
              "          docLink.innerHTML = docLinkHtml;\n",
              "          element.appendChild(docLink);\n",
              "        }\n",
              "      </script>\n",
              "    </div>\n",
              "  </div>\n",
              "  "
            ],
            "text/plain": [
              "     Event.Date                Shape  ...       Country  Source\n",
              "0       6/18/16  Boomerang/V-Shaped   ...          USA   NUFORC\n",
              "1       6/17/16  Boomerang/V-Shaped   ...          USA   NUFORC\n",
              "2       5/30/16  Boomerang/V-Shaped   ...          USA   NUFORC\n",
              "3       5/27/16  Boomerang/V-Shaped   ...          USA   NUFORC\n",
              "4       5/24/16  Boomerang/V-Shaped   ...          USA   NUFORC\n",
              "...         ...                  ...  ...           ...     ...\n",
              "3641    11/2/15             Unknown   ...     Cambodia   NUFORC\n",
              "3642    4/15/15             Unknown   ...   England/UK   NUFORC\n",
              "3643     1/2/05             Unknown   ...  Puerto Rico   NUFORC\n",
              "3644     5/4/88             Unknown   ...           NaN  NUFORC\n",
              "3645   11/15/78             Unknown   ...        Tonga   NUFORC\n",
              "\n",
              "[3646 rows x 6 columns]"
            ]
          },
          "metadata": {},
          "execution_count": 1
        }
      ],
      "source": [
        "# this cell loads the ufo data (the file should be in the same directory as this notebook)\n",
        "import pandas as pd\n",
        "import numpy as np\n",
        "import matplotlib.pyplot as plt\n",
        "#\n",
        "filename = 'ufo_location_shape.csv'\n",
        "df_sightings = pd.read_csv(filename)\n",
        "df_sightings"
      ]
    },
    {
      "cell_type": "markdown",
      "metadata": {
        "id": "2Row5Rcqup_3"
      },
      "source": [
        "## Data Exploration\n",
        "\n",
        "Answer the following questions about the data in the csv file.  Your answer should be readable, and the only number in the output for the cell.\n",
        "\n",
        "<p>How large is the data? How many rows and columns are there? What are the column names or keys?Use the cell below to create python code that prints the answer to the question</p>\n",
        "This question is worth 1 pt."
      ]
    },
    {
      "cell_type": "code",
      "source": [
        "# Gets the size, the number of rows & columns, \n",
        "# and prints out the names of the columns\n",
        "size = np.size(df_sightings)\n",
        "\n",
        "num_rows = len(df_sightings['Event.Date'])\n",
        "\n",
        "num_columns = len(df_sightings.columns)\n",
        "\n",
        "names = df_sightings.columns\n",
        "\n",
        "print(size)\n",
        "\n",
        "print()\n",
        "\n",
        "print(num_rows)\n",
        "\n",
        "print()\n",
        "\n",
        "print(num_columns)\n",
        "\n",
        "print()\n",
        "\n",
        "for i in names:\n",
        "\n",
        "  print(i)"
      ],
      "metadata": {
        "id": "9av55eKCes7t",
        "colab": {
          "base_uri": "https://localhost:8080/"
        },
        "outputId": "b513cdbb-3454-49ab-f0b9-c793280f771b"
      },
      "execution_count": 2,
      "outputs": [
        {
          "output_type": "stream",
          "name": "stdout",
          "text": [
            "21876\n",
            "\n",
            "3646\n",
            "\n",
            "6\n",
            "\n",
            "Event.Date\n",
            "Shape\n",
            "Location\n",
            "State\n",
            "Country\n",
            "Source\n"
          ]
        }
      ]
    },
    {
      "cell_type": "markdown",
      "metadata": {
        "id": "diYJDKLjup_4"
      },
      "source": [
        "### Question 1\n",
        "\n",
        "How many sightings are in the `df_sightings`? "
      ]
    },
    {
      "cell_type": "code",
      "execution_count": 3,
      "metadata": {
        "id": "I-homIRpup_5",
        "colab": {
          "base_uri": "https://localhost:8080/"
        },
        "outputId": "23a278d8-89b5-409d-eee1-86d1b3d8a0f5"
      },
      "outputs": [
        {
          "output_type": "execute_result",
          "data": {
            "text/plain": [
              "3646"
            ]
          },
          "metadata": {},
          "execution_count": 3
        }
      ],
      "source": [
        "# your code here\n",
        "\n",
        "len(df_sightings)"
      ]
    },
    {
      "cell_type": "markdown",
      "metadata": {
        "id": "N7NQzOAaup_5"
      },
      "source": [
        "### Question 2 \n",
        "\n",
        "How many columns are there in the `df_sightings`? "
      ]
    },
    {
      "cell_type": "code",
      "execution_count": 4,
      "metadata": {
        "id": "2Q-bkV8uup_6",
        "colab": {
          "base_uri": "https://localhost:8080/"
        },
        "outputId": "102b0dfc-46b3-4c82-a4f3-b97e6d7a858f"
      },
      "outputs": [
        {
          "output_type": "execute_result",
          "data": {
            "text/plain": [
              "6"
            ]
          },
          "metadata": {},
          "execution_count": 4
        }
      ],
      "source": [
        "# your code here\n",
        "\n",
        "len(df_sightings.columns)"
      ]
    },
    {
      "cell_type": "markdown",
      "metadata": {
        "id": "pj4Fh7XBup_7"
      },
      "source": [
        "### Question 3\n",
        "\n",
        "What are the column names?  Format the output such that there is one column name per line."
      ]
    },
    {
      "cell_type": "code",
      "execution_count": 5,
      "metadata": {
        "id": "k4DlbOabup_8",
        "colab": {
          "base_uri": "https://localhost:8080/"
        },
        "outputId": "df70f7f9-081b-4874-824c-b80ce8cba01f"
      },
      "outputs": [
        {
          "output_type": "stream",
          "name": "stdout",
          "text": [
            "Event.Date\n",
            "Shape\n",
            "Location\n",
            "State\n",
            "Country\n",
            "Source\n"
          ]
        }
      ],
      "source": [
        "# your code here\n",
        "\n",
        "names = df_sightings.columns\n",
        "\n",
        "for i in names:\n",
        "\n",
        "  print(i)"
      ]
    },
    {
      "cell_type": "markdown",
      "metadata": {
        "id": "9XtoBXW9up_9"
      },
      "source": [
        "### Question 4\n",
        "\n",
        "List the unique countries where sightings occurred. Format the output such that there is one country name  per line. Only list valid countries (invalid country names will be easy to spot). \n",
        "\n",
        "You will notice our old friend from the tutorial pop up, `nan`.  By default when you read in a csv file, any of the following values in cells are filled with the numpy `nan` value:  ‘’, ‘#N/A’, ‘#N/A N/A’, ‘#NA’, ‘-1.#IND’, ‘-1.#QNAN’, ‘-NaN’, ‘-nan’, ‘1.#IND’, ‘1.#QNAN’, ‘<NA>’, ‘N/A’, ‘NA’, ‘NULL’, ‘NaN’, ‘n/a’, ‘nan’, ‘null’.\n",
        "    \n",
        "You can drop `nan` from a series using the `dropna` [method](https://pandas.pydata.org/pandas-docs/stable/reference/api/pandas.Series.dropna.html). \n",
        "    \n",
        "Use the iterator [iteritems](https://pandas.pydata.org/pandas-docs/stable/reference/api/pandas.Series.iteritems.html) to loop through a series. Use the function [drop_duplicates](https://pandas.pydata.org/pandas-docs/stable/reference/api/pandas.Series.drop_duplicates.html) to remove duplicates from a series. \n"
      ]
    },
    {
      "cell_type": "code",
      "execution_count": 6,
      "metadata": {
        "id": "XbWUPr1Iup_-",
        "colab": {
          "base_uri": "https://localhost:8080/"
        },
        "outputId": "7d5e4fc3-50c5-45d5-c120-1f1d536e178e"
      },
      "outputs": [
        {
          "output_type": "stream",
          "name": "stdout",
          "text": [
            "USA \n",
            "Canada \n",
            "India \n",
            "Norway \n",
            "Wales/UK \n",
            "China \n",
            "England/UK \n",
            "Philippines \n",
            "Iran \n",
            "Unknown \n",
            "Mauritius \n",
            "Australia \n",
            "Dominican Republic \n",
            "Gibralter \n",
            "New Zealand \n",
            "South Africa \n",
            "Kenya \n",
            "Israel \n",
            "Japan \n",
            "Mexico \n",
            "Netherlands \n",
            "Puerto Rico \n",
            "Lithuania \n",
            "Indonesia \n",
            "Portugal \n",
            "Ireland \n",
            "Thailand \n",
            "Brazil \n",
            "Chile \n",
            "Cambodia \n",
            "Pakistan \n",
            "The Bahamas (Bermuda triangle) \n",
            "Sweden \n",
            "Finland \n",
            "Turkey \n",
            "Italy \n",
            "Croatia \n",
            "Argentina \n",
            "Spain \n",
            "South Australia \n",
            "Germany \n",
            "Tonga \n"
          ]
        }
      ],
      "source": [
        "# your code here\n",
        "\n",
        "# Clean data from nan and duplicate countires\n",
        "df_no_nan_countries = df_sightings['Country'].dropna()\n",
        "\n",
        "df_unique_countries = df_no_nan_countries.drop_duplicates()\n",
        "\n",
        "# prints the countries that have sited a UFO (1 per line)\n",
        "\n",
        "for idx, value in df_unique_countries.iteritems():\n",
        "\n",
        "  print(value)\n"
      ]
    },
    {
      "cell_type": "markdown",
      "metadata": {
        "id": "9E7FUq7wup_-"
      },
      "source": [
        "### Question 5\n",
        "\n",
        "For only sightings that occurred in the USA, list the unique state names. Format the output such that there is one US State name per line."
      ]
    },
    {
      "cell_type": "code",
      "execution_count": 7,
      "metadata": {
        "id": "DFpuwRtqup__",
        "colab": {
          "base_uri": "https://localhost:8080/"
        },
        "outputId": "fd2a573c-8486-423c-c5f7-00a3a6dd7243"
      },
      "outputs": [
        {
          "output_type": "stream",
          "name": "stdout",
          "text": [
            "IL \n",
            "ID \n",
            "WA \n",
            "CA \n",
            "MO \n",
            "FL \n",
            "UT \n",
            "MD \n",
            "DC \n",
            "AZ \n",
            "MN \n",
            "NM \n",
            "NY \n",
            "CO \n",
            "IA \n",
            "NJ \n",
            "LA \n",
            "OR \n",
            "AR \n",
            "OH \n",
            "SC \n",
            "HI \n",
            "KY \n",
            "NC \n",
            "PA \n",
            "IN \n",
            "MS \n",
            "MA \n",
            "VA \n",
            "RI \n",
            "NV \n",
            "ME \n",
            "GA \n",
            "AL \n",
            "TX \n",
            "WI \n",
            "NH \n",
            "MT \n",
            "AK \n",
            "TN \n",
            "ND \n",
            "MI \n",
            "CT \n",
            "KS \n",
            "SD \n",
            "NE \n",
            "DE \n",
            "OK \n",
            "VT \n",
            "WY \n",
            "WV \n"
          ]
        }
      ],
      "source": [
        "# your code here\n",
        "\n",
        "# Creates a data frame with only the USA sightings\n",
        "df_USA = df_sightings[df_sightings['Country'] == 'USA ']\n",
        "\n",
        "# Cleans data from all Nan and '??' data\n",
        "df_states_nona = df_USA[(df_USA['State'].notna()) & (df_USA['State'] != '?? ')]\n",
        "\n",
        "states_array = df_states_nona['State'].drop_duplicates()\n",
        "\n",
        "for idx, value in states_array.iteritems():\n",
        "\n",
        "    print(value)"
      ]
    },
    {
      "cell_type": "code",
      "source": [
        ""
      ],
      "metadata": {
        "id": "wgK8ZdaJhKGR"
      },
      "execution_count": 7,
      "outputs": []
    },
    {
      "cell_type": "markdown",
      "metadata": {
        "id": "0mOR8OKauqAA"
      },
      "source": [
        "\n",
        "### Question 6\n",
        "\n",
        "List the different observed UFO shapes and the number of times that they occur in the data frame (hint see [value_counts](https://pandas.pydata.org/pandas-docs/stable/reference/api/pandas.Series.value_counts.html). The answer will be in text format with one type of shape followed by the number of occurances per line. "
      ]
    },
    {
      "cell_type": "code",
      "execution_count": 8,
      "metadata": {
        "id": "P_5exDYPuqAB",
        "colab": {
          "base_uri": "https://localhost:8080/"
        },
        "outputId": "0d9674f1-32d2-41dd-941c-af5efcf91b7d"
      },
      "outputs": [
        {
          "output_type": "execute_result",
          "data": {
            "text/plain": [
              "Shape              \n",
              "Lights Only            1023\n",
              "Circle                  451\n",
              "Orb/Sphere              347\n",
              "Triangle                336\n",
              "Fireball                294\n",
              "Disk                    178\n",
              "Cigar/Cylinder          138\n",
              "Oval                    129\n",
              "Rectangle                68\n",
              "Diamond                  57\n",
              "Boomerang/V-Shaped       38\n",
              "Teardrop                 36\n",
              "Egg                      19\n",
              "Cone                     17\n",
              "Cross                    14\n",
              "Pyramid                   2\n",
              "Missile/Rocket            1\n",
              "Sphere                    1\n",
              "Square                    1\n",
              "dtype: int64"
            ]
          },
          "metadata": {},
          "execution_count": 8
        }
      ],
      "source": [
        "# your code here\n",
        "\n",
        "# Creates a dataframe with only the shape data\n",
        "df_shape = df_sightings[['Shape']]\n",
        "\n",
        "# Cleans data\n",
        "df_shape_known = df_shape[(df_shape['Shape'] != 'Unknown ') & (df_shape['Shape'] != 'Other ')]\n",
        "\n",
        "df_shape_known.value_counts()"
      ]
    },
    {
      "cell_type": "markdown",
      "metadata": {
        "id": "aQkVRiX8uqAB"
      },
      "source": [
        "### Question 7\n",
        "\n",
        "Create a bar chart showing the number of sightings in each country. The x axis should be country and the y axis should be number of sightings.\n",
        "        \n",
        "Your axis should be legible, and labeled correctly.\n",
        "\n",
        "Sort the countries by most sightings, to least sightings.  For the top three countries, annotate the bar chart to show the number of sightings, and adjust the y limits such that you are only showing the detail from 0-16 sightings. \n",
        "\n",
        "There are multiple ways to solve this, and I used [figure](https://matplotlib.org/3.3.3/api/_as_gen/matplotlib.pyplot.figure.html) to adjust the size of my plot, [ylim](https://matplotlib.org/3.3.3/api/_as_gen/matplotlib.pyplot.ylim.html) to control the y limits of the histogram, [value_counts](https://pandas.pydata.org/pandas-docs/stable/reference/api/pandas.Series.value_counts.html) to create the data, [bar](https://matplotlib.org/3.3.3/api/_as_gen/matplotlib.pyplot.bar.html) to chart the data, [xticks](https://matplotlib.org/3.3.3/api/_as_gen/matplotlib.pyplot.xticks.html#matplotlib.pyplot.xticks) to set the tick labels, [arrange](https://numpy.org/doc/stable/reference/generated/numpy.arange.html) to create x coordinates for the countries and control the tick locations, [text](https://matplotlib.org/3.3.3/api/_as_gen/matplotlib.pyplot.text.html) to annotate the graph for the top three country sighting counts, and [ylabel](https://matplotlib.org/3.3.3/api/_as_gen/matplotlib.pyplot.ylabel.html) [title](https://matplotlib.org/3.3.3/api/_as_gen/matplotlib.pyplot.title.html) to set the ylabel and title of the plot.  "
      ]
    },
    {
      "cell_type": "code",
      "execution_count": 9,
      "metadata": {
        "id": "igkOsiaJuqAC",
        "colab": {
          "base_uri": "https://localhost:8080/",
          "height": 672
        },
        "outputId": "3ddd48b5-d95d-4b6f-bd56-4358c5f46fe9"
      },
      "outputs": [
        {
          "output_type": "display_data",
          "data": {
            "image/png": "[encoded data removed]",
            "text/plain": [
              "<Figure size 1080x576 with 1 Axes>"
            ]
          },
          "metadata": {
            "needs_background": "light"
          }
        }
      ],
      "source": [
        "# your code here\n",
        "\n",
        "# Cleans the 'Country' data and creates an array of unique states for the x-axis\n",
        "df_countries = df_sightings[(df_sightings['Country'].notna()) & (df_sightings['Country'] != 'Unknown ')]\n",
        "\n",
        "countries_array = df_countries['Country'].unique()\n",
        "\n",
        "# Gets the count data of all the sightings form each country\n",
        "countries_count = df_countries['Country'].value_counts()\n",
        "\n",
        "# Creates a visual by using a bar graph of the coutns from each country\n",
        "plt.figure(figsize=[15,8])\n",
        "\n",
        "plt.ylim(0, 20)\n",
        "\n",
        "coords = np.arange(0, len(countries_count), 1)\n",
        "\n",
        "plt.xticks(coords, countries_array, rotation = 90)\n",
        "\n",
        "plt.text(-0.25, 18, '3433' +  r'$\\rightarrow$', color = 'aqua', rotation = 90)\n",
        "\n",
        "plt.text(0.65, 18, '91' +  r'$\\rightarrow$', color = 'aqua', rotation = 90)\n",
        "\n",
        "plt.text(1.65, 18, '27' +  r'$\\rightarrow$', color = 'aqua', rotation = 90)\n",
        "\n",
        "plt.bar(countries_array, countries_count, edgecolor = 'black', color = 'darkblue')\n",
        "\n",
        "plt.xlabel('Countires')\n",
        "\n",
        "plt.ylabel('Number of Sightings')\n",
        "\n",
        "plt.title('Histogram of UFO Sightings')\n",
        "\n",
        "plt.show()\n",
        "\n",
        "#countries_count"
      ]
    },
    {
      "cell_type": "markdown",
      "metadata": {
        "id": "Hqe068XDuqAC"
      },
      "source": [
        "### Question 8\n",
        "\n",
        "Create a stacked bar chart showing the top 7 UFO shapes for the ten states with the highest number of sightings. Start by finding the ten states with the highest number of sightings. Given those 10 states, find the top 7 most frequent UFO shapes. Then for each state plot a stacked bar where each color of the stack corresponds to the number of sightings in that state for a particular UFO shape. Label the x-axis with the State abbreviation. \n",
        "\n",
        "There is an [example](https://matplotlib.org/3.2.2/gallery/lines_bars_and_markers/bar_stacked.html) of a stacked bar chart available in the documentation. \n",
        "\n",
        "Use the color brewer website from the class slides to pick 7 colors to override the matplotlib defaults for the bars."
      ]
    },
    {
      "cell_type": "code",
      "execution_count": 10,
      "metadata": {
        "id": "SG704PRsuqAD",
        "colab": {
          "base_uri": "https://localhost:8080/",
          "height": 513
        },
        "outputId": "00e2a8f4-318a-43c1-cb71-73625d84eaf0"
      },
      "outputs": [
        {
          "output_type": "display_data",
          "data": {
            "image/png": "[encoded data removed]",
            "text/plain": [
              "<Figure size 1080x576 with 1 Axes>"
            ]
          },
          "metadata": {
            "needs_background": "light"
          }
        }
      ],
      "source": [
        "# your code here (feel free to make more cells if it makes things easier for you ... the problem has multiple steps)\n",
        "\n",
        "# Creates a data frame that only has the state and shape\n",
        "df_states = df_sightings[['State','Shape']]\n",
        "\n",
        "# Finds the coutns from each state and then find the top ten states\n",
        "# in temrs of number of sigthings\n",
        "state_counts_array = df_states['State'].value_counts()\n",
        "\n",
        "#state_counts_array.head(10)\n",
        "\n",
        "# Creates a list of the top ten states\n",
        "top_ten_list =  ['CA ', 'FL ', 'AZ ', 'WA ', 'NY ', \n",
        "                 'NC ', 'PA ', 'CO ', 'IL ', 'OR ']\n",
        "\n",
        "# Creates a data frame using the count data and the states\n",
        "top_ten_data = {'Count' : state_counts_array.head(10),\n",
        "                'State' : top_ten_list}\n",
        "\n",
        "df_top_ten = pd.DataFrame(top_ten_data)\n",
        "\n",
        "# This clears the data from all non top ten states\n",
        "df_top_states = df_states[df_states['State'].isin(df_top_ten['State'])]\n",
        "\n",
        "# gets the coutns of all the shapes reported form the top ten states\n",
        "top_ten_shape_array = df_top_states['Shape'].value_counts()\n",
        "\n",
        "#top_seven_shape_array.head(7)\n",
        "\n",
        "# Creates a list of the top seven shapes form the the top ten states\n",
        "top_seven_shapes = ['Lights Only ', 'Circle ', 'Fireball ','Orb/Sphere ',\n",
        "                    'Triangle ','Unknown ','Other ']\n",
        "\n",
        "# Creates a data frame using the count data from the shapes\n",
        "top_seven_data = {'Count' : top_ten_shape_array.head(7),\n",
        "                  'Shape' : top_seven_shapes}\n",
        "\n",
        "df_top_seven = pd.DataFrame(top_seven_data)\n",
        "\n",
        "# Creates a data frame with both the top ten states and the top seven shapes\n",
        "# based of the top ten states\n",
        "df_top_shapes_states = df_top_states[df_top_states['Shape'].isin(df_top_seven['Shape'])]\n",
        "\n",
        "# Just here to rember the order of the top ten:\n",
        "# oreder:'CA ', 'FL ', 'AZ ', 'WA ', 'NY ', \n",
        "#        'NC ', 'PA ', 'CO ', 'IL ', 'OR '\n",
        "\n",
        "# Creates arrays for each shape to collect the number of times\n",
        "# that specific shape was spotted by each state\n",
        "lights_only = np.array([0,0,0,0,0,0,0,0,0,0])\n",
        "\n",
        "circles =  np.array([0,0,0,0,0,0,0,0,0,0])\n",
        "\n",
        "fireball =  np.array([0,0,0,0,0,0,0,0,0,0])\n",
        "\n",
        "orb_sphere =  np.array([0,0,0,0,0,0,0,0,0,0])\n",
        "\n",
        "triangle =  np.array([0,0,0,0,0,0,0,0,0,0])\n",
        "\n",
        "unknown =  np.array([0,0,0,0,0,0,0,0,0,0])\n",
        "\n",
        "other =  np.array([0,0,0,0,0,0,0,0,0,0])\n",
        "\n",
        "# Creates data frames to use value_counts fucntion to get the count of a shape\n",
        "# from each shape\n",
        "df_lights = df_top_shapes_states[df_top_shapes_states['Shape'] == top_seven_shapes[0]]\n",
        "\n",
        "lights_count = df_lights.value_counts(sort = False)\n",
        "\n",
        "df_circle = df_top_shapes_states[df_top_shapes_states['Shape'] == top_seven_shapes[1]]\n",
        "\n",
        "cirlce_count = df_circle.value_counts(sort = False)\n",
        "\n",
        "df_fireball = df_top_shapes_states[df_top_shapes_states['Shape'] == top_seven_shapes[2]]\n",
        "\n",
        "fireball_count = df_fireball.value_counts(sort = False)\n",
        "\n",
        "df_orb_sphere = df_top_shapes_states[df_top_shapes_states['Shape'] == top_seven_shapes[3]]\n",
        "\n",
        "orb_sphere_count = df_orb_sphere.value_counts(sort = False)\n",
        "\n",
        "df_triangle = df_top_shapes_states[df_top_shapes_states['Shape'] == top_seven_shapes[4]]\n",
        "\n",
        "triangle_count = df_triangle.value_counts(sort = False)\n",
        "\n",
        "df_unkown = df_top_shapes_states[df_top_shapes_states['Shape'] == top_seven_shapes[5]]\n",
        "\n",
        "unkown_count = df_unkown.value_counts(sort = False)\n",
        "\n",
        "df_other = df_top_shapes_states[df_top_shapes_states['Shape'] == top_seven_shapes[6]]\n",
        "\n",
        "other_count = df_other.value_counts(sort = False)\n",
        "\n",
        "# Since I have sorted as 'False', each count array gives the counts \n",
        "# of the states in alphabetical order. The reorder list is used\n",
        "# to put the counts of each shape in the correct index in the shape\n",
        "# arrays\n",
        "reorder =  [1, 3, 0, 9, 6, 5, 8, 2, 4, 7]\n",
        "\n",
        "# Assignes the count of a shape to the array in top ten order\n",
        "for i in range(0, 10):\n",
        "\n",
        "  lights_only[i] = lights_count[reorder[i]]\n",
        "\n",
        "  circles[i] = cirlce_count[reorder[i]]\n",
        "\n",
        "  fireball[i] = fireball_count[reorder[i]]\n",
        "\n",
        "  orb_sphere[i] = orb_sphere_count[reorder[i]]\n",
        "  \n",
        "  triangle[i] = triangle_count[reorder[i]]\n",
        "\n",
        "  unknown[i] = unkown_count[reorder[i]]\n",
        "\n",
        "  other[i] = other_count[reorder[i]]\n",
        "\n",
        "# Plots a stacked bar grpah of the number of sightings based on shape from each\n",
        "# of the top ten states\n",
        "plt.figure(figsize=[15,8])\n",
        "\n",
        "plt.bar(top_ten_list, lights_only, label = 'Lights Only', color  = '#fee5d9')\n",
        "\n",
        "plt.bar(top_ten_list, circles, label = 'Cirlces', bottom = lights_only, color = '#fcbba1')\n",
        "\n",
        "plt.bar(top_ten_list, fireball, label = 'Fireball', bottom = lights_only + circles, color = '#fc9272')\n",
        "\n",
        "plt.bar(top_ten_list, orb_sphere, label = 'Orb/Sphere', bottom = lights_only + circles + fireball, color = '#fb6a4a')\n",
        "\n",
        "plt.bar(top_ten_list, triangle, label = 'Triangle', bottom = lights_only + circles + fireball + orb_sphere, color = '#ef3b2c')\n",
        "\n",
        "plt.bar(top_ten_list, unknown, label = 'Unknown', bottom = lights_only + circles + fireball + orb_sphere + triangle, color = '#cb181d')\n",
        "\n",
        "plt.bar(top_ten_list, other, label = 'Other', bottom = lights_only + circles + fireball + orb_sphere + triangle + unknown, color = '#99000d')\n",
        "\n",
        "plt.xlabel('US Sates')\n",
        "\n",
        "plt.ylabel('Number of Sightings')\n",
        "\n",
        "plt.title('UFO Sightings in the Top Ten Most Common States')\n",
        "\n",
        "plt.legend()\n",
        "\n",
        "plt.show()"
      ]
    }
  ],
  "metadata": {
    "kernelspec": {
      "display_name": "Python 3",
      "language": "python",
      "name": "python3"
    },
    "language_info": {
      "codemirror_mode": {
        "name": "ipython",
        "version": 3
      },
      "file_extension": ".py",
      "mimetype": "text/x-python",
      "name": "python",
      "nbconvert_exporter": "python",
      "pygments_lexer": "ipython3",
      "version": "3.8.3"
    },
    "colab": {
      "name": "hw2_visualization.ipynb",
      "provenance": [],
      "collapsed_sections": []
    }
  },
  "nbformat": 4,
  "nbformat_minor": 0
}