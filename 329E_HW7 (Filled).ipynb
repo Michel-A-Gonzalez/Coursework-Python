{
  "cells": [
    {
      "cell_type": "markdown",
      "metadata": {
        "id": "2nYJksWF2RW7"
      },
      "source": [
        "## C S 329E HW 7\n",
        "\n",
        "# Naive Bayes \n",
        "\n",
        "## Michel Gonzalez\n",
        "\n",
        "For this week's homework we are going explore one new classification technique:\n",
        "\n",
        "  - Naive Bayes\n",
        "\n",
        "We are reusing the version of the Melbourne housing data set from HW6, to predict the housing type as one of three possible categories:\n",
        "\n",
        "  - 'h' house\n",
        "  - 'u' duplex\n",
        "  - 't' townhouse\n",
        "\n",
        "In addition to building our own Naive Bayes classifier, we are going to compare the performace of our classifier to the [Gaussian Naive Bayes Classifier](https://scikit-learn.org/stable/modules/naive_bayes.html#gaussian-naive-bayes) available in the scikit-learn library. "
      ]
    },
    {
      "cell_type": "code",
      "execution_count": 1,
      "metadata": {
        "id": "gwcM3rYi2RXA"
      },
      "outputs": [],
      "source": [
        "# These are the libraries you will use for this assignment\n",
        "import pandas as pd\n",
        "import numpy as np\n",
        "import matplotlib.pyplot as plt\n",
        "import time\n",
        "import calendar\n",
        "from sklearn.naive_bayes import GaussianNB # The only thing in scikit-learn you can use this assignment\n",
        "\n",
        "# Starting off loading a training set and setting a variable for the target column, \"Type\"\n",
        "df_melb = pd.read_csv('https://gist.githubusercontent.com/yanyanzheng96/81b236aecee57f6cf65e60afd865d2bb/raw/56ddb53aa90c26ab1bdbfd0b8d8229c8d08ce45a/melb_data_train.csv')\n",
        "target_col = 'Type'"
      ]
    },
    {
      "cell_type": "markdown",
      "metadata": {
        "id": "1XTJKku92RXC"
      },
      "source": [
        "## Q1 - Fix a column of data to be numeric\n",
        "If we inspect our dataframe, `df_melb` using the `dtypes` method, we see that the column \"Date\" is an object.  However, we think this column might contain useful information so we want to convert it to [seconds since epoch](https://en.wikipedia.org/wiki/Unix_time). Use only the exiting imported libraries to create a new column \"unixtime\". Be careful, the date strings in the file might have some non-uniform formating that you have to fix first.  Print out the min and max epoch time to check your work.  Drop the original \"Date\" column. \n",
        "\n",
        "THESE ARE THE EXACT SAME INSTRUCTIONS FROM HW6! Please take this opportunity to reuse your code (if you got it right last time). "
      ]
    },
    {
      "cell_type": "code",
      "execution_count": 2,
      "metadata": {
        "id": "lz6FWv3j2RXC"
      },
      "outputs": [],
      "source": [
        "# normalize date accepts the date string as shown in the df_melb 'Date' column,\n",
        "# and returns a data in a standarized format\n",
        "def standardize_date(d):\n",
        "  \n",
        "    # since the d varies bewtween two formats\n",
        "    # 'D/M/YY' or 'DD/MM/YYYY', the longer fomrat\n",
        "    # has a length of 10 so I split the formating fucntion\n",
        "    # into the two cases\n",
        "    if(len(d) < 10):\n",
        "      \n",
        "      standard = time.strptime(d, '%d/%m/%y')\n",
        "\n",
        "    else:\n",
        "\n",
        "      standard = time.strptime(d, '%d/%m/%Y')\n",
        "\n",
        "    return standard\n"
      ]
    },
    {
      "cell_type": "code",
      "execution_count": 3,
      "metadata": {
        "id": "it4CiT6k2RXD"
      },
      "outputs": [],
      "source": [
        "df_melb['Date'] = df_melb['Date'].apply(standardize_date)\n",
        "df_melb['unixtime'] = df_melb['Date'].apply( lambda x : int(time.mktime(x)))\n",
        "df_melb = df_melb.drop(columns=\"Date\")"
      ]
    },
    {
      "cell_type": "code",
      "source": [
        "df_melb.head()"
      ],
      "metadata": {
        "colab": {
          "base_uri": "https://localhost:8080/",
          "height": 206
        },
        "id": "OfNyqp9h3fTU",
        "outputId": "b2906cc9-7452-4623-8360-0b0ca5847179"
      },
      "execution_count": 4,
      "outputs": [
        {
          "output_type": "execute_result",
          "data": {
            "text/html": [
              "\n",
              "  <div id=\"df-031a7484-fcc8-4d02-9a54-f712250be5f7\">\n",
              "    <div class=\"colab-df-container\">\n",
              "      <div>\n",
              "<style scoped>\n",
              "    .dataframe tbody tr th:only-of-type {\n",
              "        vertical-align: middle;\n",
              "    }\n",
              "\n",
              "    .dataframe tbody tr th {\n",
              "        vertical-align: top;\n",
              "    }\n",
              "\n",
              "    .dataframe thead th {\n",
              "        text-align: right;\n",
              "    }\n",
              "</style>\n",
              "<table border=\"1\" class=\"dataframe\">\n",
              "  <thead>\n",
              "    <tr style=\"text-align: right;\">\n",
              "      <th></th>\n",
              "      <th>Rooms</th>\n",
              "      <th>Type</th>\n",
              "      <th>Price</th>\n",
              "      <th>Distance</th>\n",
              "      <th>Postcode</th>\n",
              "      <th>Bathroom</th>\n",
              "      <th>Car</th>\n",
              "      <th>Landsize</th>\n",
              "      <th>BuildingArea</th>\n",
              "      <th>YearBuilt</th>\n",
              "      <th>unixtime</th>\n",
              "    </tr>\n",
              "  </thead>\n",
              "  <tbody>\n",
              "    <tr>\n",
              "      <th>0</th>\n",
              "      <td>2</td>\n",
              "      <td>h</td>\n",
              "      <td>399000</td>\n",
              "      <td>8.7</td>\n",
              "      <td>3032</td>\n",
              "      <td>1</td>\n",
              "      <td>1.0</td>\n",
              "      <td>904</td>\n",
              "      <td>53.0</td>\n",
              "      <td>1985.0</td>\n",
              "      <td>1462579200</td>\n",
              "    </tr>\n",
              "    <tr>\n",
              "      <th>1</th>\n",
              "      <td>3</td>\n",
              "      <td>h</td>\n",
              "      <td>1241000</td>\n",
              "      <td>13.9</td>\n",
              "      <td>3165</td>\n",
              "      <td>1</td>\n",
              "      <td>1.0</td>\n",
              "      <td>643</td>\n",
              "      <td>NaN</td>\n",
              "      <td>NaN</td>\n",
              "      <td>1472342400</td>\n",
              "    </tr>\n",
              "    <tr>\n",
              "      <th>2</th>\n",
              "      <td>2</td>\n",
              "      <td>u</td>\n",
              "      <td>550000</td>\n",
              "      <td>3.0</td>\n",
              "      <td>3067</td>\n",
              "      <td>1</td>\n",
              "      <td>1.0</td>\n",
              "      <td>1521</td>\n",
              "      <td>NaN</td>\n",
              "      <td>NaN</td>\n",
              "      <td>1499472000</td>\n",
              "    </tr>\n",
              "    <tr>\n",
              "      <th>3</th>\n",
              "      <td>3</td>\n",
              "      <td>u</td>\n",
              "      <td>691000</td>\n",
              "      <td>8.4</td>\n",
              "      <td>3072</td>\n",
              "      <td>1</td>\n",
              "      <td>1.0</td>\n",
              "      <td>170</td>\n",
              "      <td>NaN</td>\n",
              "      <td>NaN</td>\n",
              "      <td>1498262400</td>\n",
              "    </tr>\n",
              "    <tr>\n",
              "      <th>4</th>\n",
              "      <td>2</td>\n",
              "      <td>u</td>\n",
              "      <td>657500</td>\n",
              "      <td>4.6</td>\n",
              "      <td>3122</td>\n",
              "      <td>1</td>\n",
              "      <td>1.0</td>\n",
              "      <td>728</td>\n",
              "      <td>73.0</td>\n",
              "      <td>1965.0</td>\n",
              "      <td>1479513600</td>\n",
              "    </tr>\n",
              "  </tbody>\n",
              "</table>\n",
              "</div>\n",
              "      <button class=\"colab-df-convert\" onclick=\"convertToInteractive('df-031a7484-fcc8-4d02-9a54-f712250be5f7')\"\n",
              "              title=\"Convert this dataframe to an interactive table.\"\n",
              "              style=\"display:none;\">\n",
              "        \n",
              "  <svg xmlns=\"http://www.w3.org/2000/svg\" height=\"24px\"viewBox=\"0 0 24 24\"\n",
              "       width=\"24px\">\n",
              "    <path d=\"M0 0h24v24H0V0z\" fill=\"none\"/>\n",
              "    <path d=\"M18.56 5.44l.94 2.06.94-2.06 2.06-.94-2.06-.94-.94-2.06-.94 2.06-2.06.94zm-11 1L8.5 8.5l.94-2.06 2.06-.94-2.06-.94L8.5 2.5l-.94 2.06-2.06.94zm10 10l.94 2.06.94-2.06 2.06-.94-2.06-.94-.94-2.06-.94 2.06-2.06.94z\"/><path d=\"M17.41 7.96l-1.37-1.37c-.4-.4-.92-.59-1.43-.59-.52 0-1.04.2-1.43.59L10.3 9.45l-7.72 7.72c-.78.78-.78 2.05 0 2.83L4 21.41c.39.39.9.59 1.41.59.51 0 1.02-.2 1.41-.59l7.78-7.78 2.81-2.81c.8-.78.8-2.07 0-2.86zM5.41 20L4 18.59l7.72-7.72 1.47 1.35L5.41 20z\"/>\n",
              "  </svg>\n",
              "      </button>\n",
              "      \n",
              "  <style>\n",
              "    .colab-df-container {\n",
              "      display:flex;\n",
              "      flex-wrap:wrap;\n",
              "      gap: 12px;\n",
              "    }\n",
              "\n",
              "    .colab-df-convert {\n",
              "      background-color: #E8F0FE;\n",
              "      border: none;\n",
              "      border-radius: 50%;\n",
              "      cursor: pointer;\n",
              "      display: none;\n",
              "      fill: #1967D2;\n",
              "      height: 32px;\n",
              "      padding: 0 0 0 0;\n",
              "      width: 32px;\n",
              "    }\n",
              "\n",
              "    .colab-df-convert:hover {\n",
              "      background-color: #E2EBFA;\n",
              "      box-shadow: 0px 1px 2px rgba(60, 64, 67, 0.3), 0px 1px 3px 1px rgba(60, 64, 67, 0.15);\n",
              "      fill: #174EA6;\n",
              "    }\n",
              "\n",
              "    [theme=dark] .colab-df-convert {\n",
              "      background-color: #3B4455;\n",
              "      fill: #D2E3FC;\n",
              "    }\n",
              "\n",
              "    [theme=dark] .colab-df-convert:hover {\n",
              "      background-color: #434B5C;\n",
              "      box-shadow: 0px 1px 3px 1px rgba(0, 0, 0, 0.15);\n",
              "      filter: drop-shadow(0px 1px 2px rgba(0, 0, 0, 0.3));\n",
              "      fill: #FFFFFF;\n",
              "    }\n",
              "  </style>\n",
              "\n",
              "      <script>\n",
              "        const buttonEl =\n",
              "          document.querySelector('#df-031a7484-fcc8-4d02-9a54-f712250be5f7 button.colab-df-convert');\n",
              "        buttonEl.style.display =\n",
              "          google.colab.kernel.accessAllowed ? 'block' : 'none';\n",
              "\n",
              "        async function convertToInteractive(key) {\n",
              "          const element = document.querySelector('#df-031a7484-fcc8-4d02-9a54-f712250be5f7');\n",
              "          const dataTable =\n",
              "            await google.colab.kernel.invokeFunction('convertToInteractive',\n",
              "                                                     [key], {});\n",
              "          if (!dataTable) return;\n",
              "\n",
              "          const docLinkHtml = 'Like what you see? Visit the ' +\n",
              "            '<a target=\"_blank\" href=https://colab.research.google.com/notebooks/data_table.ipynb>data table notebook</a>'\n",
              "            + ' to learn more about interactive tables.';\n",
              "          element.innerHTML = '';\n",
              "          dataTable['output_type'] = 'display_data';\n",
              "          await google.colab.output.renderOutput(dataTable, element);\n",
              "          const docLink = document.createElement('div');\n",
              "          docLink.innerHTML = docLinkHtml;\n",
              "          element.appendChild(docLink);\n",
              "        }\n",
              "      </script>\n",
              "    </div>\n",
              "  </div>\n",
              "  "
            ],
            "text/plain": [
              "   Rooms Type    Price  Distance  Postcode  Bathroom  Car  Landsize  \\\n",
              "0      2    h   399000       8.7      3032         1  1.0       904   \n",
              "1      3    h  1241000      13.9      3165         1  1.0       643   \n",
              "2      2    u   550000       3.0      3067         1  1.0      1521   \n",
              "3      3    u   691000       8.4      3072         1  1.0       170   \n",
              "4      2    u   657500       4.6      3122         1  1.0       728   \n",
              "\n",
              "   BuildingArea  YearBuilt    unixtime  \n",
              "0          53.0     1985.0  1462579200  \n",
              "1           NaN        NaN  1472342400  \n",
              "2           NaN        NaN  1499472000  \n",
              "3           NaN        NaN  1498262400  \n",
              "4          73.0     1965.0  1479513600  "
            ]
          },
          "metadata": {},
          "execution_count": 4
        }
      ]
    },
    {
      "cell_type": "markdown",
      "metadata": {
        "id": "kqP-hmlj2RXD"
      },
      "source": [
        "## Q2 Calculating the prior probabilities\n",
        "Calculate the prior probabilities for each possible \"Type\" in `df_melb` and populate a dictionary, `dict_priors`, where the key is the possible \"Type\" values and the value is the prior probabilities. Show the dictionary. Do not hardcode the possible values of \"Type\".  Don't forget about [value counts](https://pandas.pydata.org/docs/reference/api/pandas.Series.value_counts.html). "
      ]
    },
    {
      "cell_type": "code",
      "execution_count": 5,
      "metadata": {
        "colab": {
          "base_uri": "https://localhost:8080/"
        },
        "id": "SXo7-C-82RXE",
        "outputId": "b852778a-e63a-476e-e95d-f9d11cc245d6"
      },
      "outputs": [
        {
          "output_type": "execute_result",
          "data": {
            "text/plain": [
              "{'h': 0.452, 't': 0.13, 'u': 0.418}"
            ]
          },
          "metadata": {},
          "execution_count": 5
        }
      ],
      "source": [
        "dict_priors = {} #your code here\n",
        "\n",
        "# gets the class labels and prioirs and \n",
        "# fills the dictionary with the labels\n",
        "# and values\n",
        "classes = df_melb[target_col].value_counts(normalize = True).index\n",
        "\n",
        "values = df_melb[target_col].value_counts(normalize = True).values\n",
        "\n",
        "for i in range(0, len(classes)):\n",
        "\n",
        "  dict_priors[classes[i]] = values[i]\n",
        "\n",
        "# show the priors\n",
        "dict_priors\n"
      ]
    },
    {
      "cell_type": "markdown",
      "metadata": {
        "id": "M6JEQ7mX2RXE"
      },
      "source": [
        "## Q3 Create a model for the distribution of all of the numeric attributes\n",
        "For each class, and for each attribute calculate the sample mean and sample standard deviation.  You should store the model in a nested dictionary, `dict_nb_model`, such that `dict_nb_model['h']['Rooms']` is a tuple containing the mean and standard deviation for the target Type 'h' and the attribute 'Rooms'.  Show the model using the `display` function. You should ignore entries that are `NaN` in the mean and [standard deviation](https://pandas.pydata.org/docs/reference/api/pandas.Series.std.html) calculation. "
      ]
    },
    {
      "cell_type": "code",
      "execution_count": 6,
      "metadata": {
        "id": "2G9gwxKa2RXF"
      },
      "outputs": [],
      "source": [
        "dict_nb_model = dict()\n",
        "for target in dict_priors.keys():\n",
        "    # your code here\n",
        "\n",
        "    # creates the nested dictionary for each class\n",
        "    dict_nb_model[target] = {}\n",
        "\n",
        "    # creates data frames with only a specific class from\n",
        "    # the training set\n",
        "    alt_df = df_melb[df_melb[target_col] == target]\n",
        "\n",
        "    for col in df_melb.columns:\n",
        "\n",
        "      # skips the target column\n",
        "      if col == target_col:\n",
        "\n",
        "        continue\n",
        "\n",
        "      else:\n",
        "\n",
        "        # cals mean & sd and fills the dictionary\n",
        "        # with tuples for every attribute for each class label\n",
        "\n",
        "        mean = alt_df[col].mean(skipna = True)\n",
        "\n",
        "        sd = alt_df[col].std(skipna = True)\n",
        "\n",
        "        tup = (mean, sd)\n",
        "\n",
        "        dict_nb_model[target][col] = tup"
      ]
    },
    {
      "cell_type": "code",
      "execution_count": 7,
      "metadata": {
        "colab": {
          "base_uri": "https://localhost:8080/",
          "height": 553
        },
        "id": "23No_-oN2RXG",
        "outputId": "5c55e850-59ce-4acc-f3b4-ca5ab7c07fc8"
      },
      "outputs": [
        {
          "output_type": "display_data",
          "data": {
            "text/plain": [
              "{'h': {'Bathroom': (1.5619469026548674, 0.6720871086493075),\n",
              "  'BuildingArea': (156.24339622641511, 54.62662837301434),\n",
              "  'Car': (1.7777777777777777, 0.932759177140425),\n",
              "  'Distance': (12.086725663716809, 7.397501132737295),\n",
              "  'Landsize': (932.9646017699115, 3830.7934157687164),\n",
              "  'Postcode': (3103.8982300884954, 98.35750345419703),\n",
              "  'Price': (1189022.3451327435, 586296.5794417895),\n",
              "  'Rooms': (3.269911504424779, 0.7258264201127756),\n",
              "  'YearBuilt': (1954.900826446281, 32.461876347154686),\n",
              "  'unixtime': (1485717578.761062, 13838562.050601462)},\n",
              " 't': {'Bathroom': (1.8461538461538463, 0.565430401076506),\n",
              "  'BuildingArea': (138.66666666666666, 53.498637054290135),\n",
              "  'Car': (1.6923076923076923, 0.5280588545286915),\n",
              "  'Distance': (10.766153846153845, 4.870455475462387),\n",
              "  'Landsize': (268.18461538461537, 276.57700624711265),\n",
              "  'Postcode': (3121.6153846153848, 100.01588816090862),\n",
              "  'Price': (1000169.2307692308, 421822.5363389935),\n",
              "  'Rooms': (2.9076923076923076, 0.6052653582075831),\n",
              "  'YearBuilt': (1997.0227272727273, 16.99177453038181),\n",
              "  'unixtime': (1486525292.3076923, 12640127.60987191)},\n",
              " 'u': {'Bathroom': (1.1818181818181819, 0.42228151548662185),\n",
              "  'BuildingArea': (83.85585585585585, 45.959438015166604),\n",
              "  'Car': (1.1483253588516746, 0.47231993860296956),\n",
              "  'Distance': (8.760287081339715, 5.609778714430755),\n",
              "  'Landsize': (436.23444976076553, 1394.3403794653254),\n",
              "  'Postcode': (3120.4545454545455, 87.18475679946482),\n",
              "  'Price': (634207.1770334928, 217947.32866736987),\n",
              "  'Rooms': (2.0430622009569377, 0.5908453859944267),\n",
              "  'YearBuilt': (1976.451388888889, 24.557291330642666),\n",
              "  'unixtime': (1484176719.617225, 13494566.111289721)}}"
            ]
          },
          "metadata": {}
        }
      ],
      "source": [
        "display(dict_nb_model)"
      ]
    },
    {
      "cell_type": "markdown",
      "metadata": {
        "id": "e_UG6yhn2RXG"
      },
      "source": [
        "## Q4 Write a function that calculates the probability of a Gaussian\n",
        "Given the mean ($\\mu$), standard deviation ($\\sigma$), and a observed point, `x`, return the probability.  \n",
        "Use the formula $p(x) = \\frac{1}{\\sigma \\sqrt{2 \\pi}} e^{-\\frac{1}{2}(\\frac{x-\\mu}{\\sigma})^2}$ ([wiki](https://en.wikipedia.org/wiki/Normal_distribution)).  You should use [numpy's exp](https://numpy.org/doc/stable/reference/generated/numpy.exp.html) function in your solution. "
      ]
    },
    {
      "cell_type": "code",
      "execution_count": 8,
      "metadata": {
        "id": "n91F0oC82RXH"
      },
      "outputs": [],
      "source": [
        "def get_p( mu, sigma, x):\n",
        "    # your code here\n",
        "\n",
        "    p = (1 /(sigma * np.sqrt(2 * np.pi))) * np.exp((-.5 * (((x - mu)/sigma) ** 2)))\n",
        "    \n",
        "    return p"
      ]
    },
    {
      "cell_type": "code",
      "execution_count": 9,
      "metadata": {
        "colab": {
          "base_uri": "https://localhost:8080/"
        },
        "id": "RhC12RnC2RXH",
        "outputId": "07b022a6-8efa-4f59-edf6-97ced9940737"
      },
      "outputs": [
        {
          "output_type": "execute_result",
          "data": {
            "text/plain": [
              "0.19333405840142462"
            ]
          },
          "metadata": {},
          "execution_count": 9
        }
      ],
      "source": [
        "# Test it\n",
        "p = get_p( 0, 2, 0.5)\n",
        "p"
      ]
    },
    {
      "cell_type": "markdown",
      "metadata": {
        "id": "i4TTGLg72RXI"
      },
      "source": [
        "## Q5 Write the Naive Bayes classifier function\n",
        "The Naive Bayes classifier function, `nb_class`, should take as a parameter the prior probability dictionary. `dict_priors`, the dictionary containing all of the gaussian distribution information for each attribue, `dict_nb_model`, and a single observation row (a series generated from iterrows) of the test dataframe. It should return a single target classification. For this problem, all of our attributes are numeric and modeled as Gaussians, so we don't worry about categorical data. Make sure to skip attributes that do not have a value in the observation.  Do not hardcode the possible classification types. "
      ]
    },
    {
      "cell_type": "code",
      "execution_count": 10,
      "metadata": {
        "id": "INST7orR2RXI"
      },
      "outputs": [],
      "source": [
        "def nb_class( dict_priors, dict_nb_model, observation):\n",
        "    # your code here\n",
        "\n",
        "    # creates a list of the class labels\n",
        "    classes = list(dict_priors.keys())\n",
        "    \n",
        "    # crates the list to hold the probability\n",
        "    # from each class\n",
        "    bayes_prob = []\n",
        "\n",
        "    for target in dict_priors.keys():\n",
        "\n",
        "      # gets the priors \n",
        "      p_class = dict_priors[target]\n",
        "\n",
        "      # since the conditional probabilities are multiplied\n",
        "      # we set the starting value to 1 \n",
        "      atts_probs = 1\n",
        "\n",
        "      # I use k to keep track of what observation\n",
        "      # is being looked at\n",
        "      k = 0\n",
        "\n",
        "      for attribute in dict_nb_model[target].keys():\n",
        "\n",
        "        # skips all nan values in the dataframe\n",
        "        if (pd.isna(observation[k]) ==  True):\n",
        "\n",
        "          k += 1\n",
        "\n",
        "        else:\n",
        "          \n",
        "          # gets the conditionals probs by using the gaussian distribution \n",
        "          # and the means', sds', and observation value x from each attribute\n",
        "          atts_probs *= get_p(dict_nb_model[target][attribute][0], dict_nb_model[target][attribute][1], observation[k])\n",
        "\n",
        "          k += 1\n",
        "\n",
        "      naive_prob = p_class * atts_probs\n",
        "\n",
        "      bayes_prob.append(naive_prob)\n",
        "\n",
        "    # returns a classification based on the max 'probability'\n",
        "    # from naive bayes 'probabilities'\n",
        "    # recall that these values are proportions not an\n",
        "    # actual probability (for me)\n",
        "    return classes[np.argmax(bayes_prob)]"
      ]
    },
    {
      "cell_type": "markdown",
      "metadata": {
        "id": "C_5Uwapp2RXI"
      },
      "source": [
        "## Q6 Calculate the accuracy using Naive Bayes classifier function on the test set\n",
        "Load the test set from file, convert date to unix time and drop the date column, classify each row using your `nb_class`, and then show the accuracy on the test set. "
      ]
    },
    {
      "cell_type": "code",
      "execution_count": 11,
      "metadata": {
        "id": "E2HMSiR62RXJ"
      },
      "outputs": [],
      "source": [
        "df_test = pd.read_csv('https://gist.githubusercontent.com/yanyanzheng96/c3d53303cebbd986b166591d19254bac/raw/94eb3b2d500d5f7bbc0441a8419cd855349d5d8e/melb_data_test.csv')\n",
        "df_test['Date'] = df_test['Date'].apply( standardize_date )\n",
        "df_test['unixtime'] = df_test['Date'].apply( lambda x : int(time.mktime(x)))\n",
        "df_test = df_test.drop(columns=\"Date\")\n",
        "\n",
        "# gest the actual classification from\n",
        "# the test set and drops the column\n",
        "actual = df_test[target_col]\n",
        "\n",
        "df_test = df_test.drop(columns = target_col)"
      ]
    },
    {
      "cell_type": "code",
      "execution_count": 12,
      "metadata": {
        "id": "92GmOILY2RXJ"
      },
      "outputs": [],
      "source": [
        "predictions = []\n",
        "\n",
        "for (indx,row) in df_test.iterrows():\n",
        "  \n",
        "  # your code here\n",
        "  predictions.append(nb_class(dict_priors, dict_nb_model, row))"
      ]
    },
    {
      "cell_type": "code",
      "execution_count": 13,
      "metadata": {
        "id": "hcwugs8q2RXJ"
      },
      "outputs": [],
      "source": [
        "acc = sum(predictions == actual)/ len(predictions) # your code here"
      ]
    },
    {
      "cell_type": "code",
      "execution_count": 14,
      "metadata": {
        "colab": {
          "base_uri": "https://localhost:8080/"
        },
        "id": "ftmB6xbH2RXJ",
        "outputId": "cfc95251-5dba-4509-97b2-8c47c34e4a4e"
      },
      "outputs": [
        {
          "output_type": "stream",
          "name": "stdout",
          "text": [
            "Accuracy is 57.00%\n"
          ]
        }
      ],
      "source": [
        "print('Accuracy is {:.2f}%'.format(acc*100))"
      ]
    },
    {
      "cell_type": "markdown",
      "metadata": {
        "id": "-Fnv8MQ-2RXJ"
      },
      "source": [
        "## Use scikit-learn to do the same thing!\n",
        "\n",
        "Now we understand the inner workings of the Naive Bayes algorithm, let's compare our results to [scikit-learn's Naive Bayes](https://scikit-learn.org/stable/modules/naive_bayes.html) implementation. Use the [GaussianNB](https://scikit-learn.org/stable/modules/naive_bayes.html#gaussian-naive-bayes) to train using the `df_melb`dataframe and test using the `df_test` dataframe. Remember to split `df_melb` into a `df_X` with the numerical attributes, and a `s_y` with the target column. On the `df_melb` frame you will have to fill the empty attributes via imputation since the scikit-learn library can not handle missing values.  Use the same method you used in the last homework (filling the training data with the mean of the non-nan values). \n",
        "\n",
        "Answer the following in a markdown cell: do you think imputation hurt or helped the classifier?"
      ]
    },
    {
      "cell_type": "code",
      "execution_count": 15,
      "metadata": {
        "id": "Gr4lsXIN2RXK"
      },
      "outputs": [],
      "source": [
        "# Imputation training\n",
        "dict_imputation = dict()\n",
        "# your code here\n",
        "for col in df_melb.columns:\n",
        "\n",
        "    if (col == target_col):\n",
        "\n",
        "      continue\n",
        "\n",
        "    else:\n",
        "      \n",
        "      dict_imputation[col] = np.mean(df_melb[col])\n",
        "        \n",
        "# Imputation - apply on the test data\n",
        "# your code here\n",
        "df_melb = df_melb.fillna(value = dict_imputation)\n",
        "\n",
        "df_test = df_test.fillna(value = dict_imputation)\n",
        "\n",
        "# Seperate the attributes from the target_col\n",
        "# your code here\n",
        "\n",
        "df_X = df_melb.drop(columns = target_col)\n",
        "\n",
        "s_y = df_melb[target_col]"
      ]
    },
    {
      "cell_type": "code",
      "execution_count": 16,
      "metadata": {
        "id": "HgOnzhMM2RXK"
      },
      "outputs": [],
      "source": [
        "gnb = GaussianNB()\n",
        "# your code here\n",
        "\n",
        "# gets the classification prediction based on using imputation\n",
        "y_pred = gnb.fit(df_X, s_y).predict(df_test)"
      ]
    },
    {
      "cell_type": "code",
      "execution_count": 17,
      "metadata": {
        "colab": {
          "base_uri": "https://localhost:8080/"
        },
        "id": "AIEDuvhS2RXK",
        "outputId": "2e708740-f2b3-4f59-fc24-085f1cf1079e"
      },
      "outputs": [
        {
          "output_type": "stream",
          "name": "stdout",
          "text": [
            "Accuracy is 7.40%\n"
          ]
        }
      ],
      "source": [
        "acc = sum(y_pred == actual)/ len(s_y) # your code here\n",
        "print('Accuracy is {:.2f}%'.format(acc*100))"
      ]
    },
    {
      "cell_type": "markdown",
      "metadata": {
        "id": "ddEs8mvB2RXK"
      },
      "source": [
        "## ANSWER TO \"do you think imputation hurt or helped the classifier?\"\n",
        "The classifier actually got severly hurt by applying imputation to both the test and traning data. There was just under a 50% difference in accuracy. "
      ]
    }
  ],
  "metadata": {
    "kernelspec": {
      "display_name": "Python 3",
      "language": "python",
      "name": "python3"
    },
    "language_info": {
      "codemirror_mode": {
        "name": "ipython",
        "version": 3
      },
      "file_extension": ".py",
      "mimetype": "text/x-python",
      "name": "python",
      "nbconvert_exporter": "python",
      "pygments_lexer": "ipython3",
      "version": "3.8.8"
    },
    "colab": {
      "name": "CS329E_HW7.ipynb",
      "provenance": []
    }
  },
  "nbformat": 4,
  "nbformat_minor": 0
}